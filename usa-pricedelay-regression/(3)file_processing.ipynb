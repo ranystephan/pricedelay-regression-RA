{
 "cells": [
  {
   "cell_type": "code",
   "execution_count": 53,
   "metadata": {},
   "outputs": [
    {
     "name": "stdout",
     "output_type": "stream",
     "text": [
      "Defaulting to user installation because normal site-packages is not writeable\n",
      "Collecting yfinance\n",
      "  Downloading yfinance-0.2.40-py2.py3-none-any.whl (73 kB)\n",
      "\u001b[2K     \u001b[90m━━━━━━━━━━━━━━━━━━━━━━━━━━━━━━━━━━━━━━━━\u001b[0m \u001b[32m73.5/73.5 KB\u001b[0m \u001b[31m42.9 kB/s\u001b[0m eta \u001b[36m0:00:00\u001b[0ma \u001b[36m0:00:01\u001b[0m\n",
      "\u001b[?25hCollecting html5lib>=1.1\n",
      "  Using cached html5lib-1.1-py2.py3-none-any.whl (112 kB)\n",
      "Collecting lxml>=4.9.1\n",
      "  Downloading lxml-5.2.2-cp310-cp310-manylinux_2_28_x86_64.whl (5.0 MB)\n",
      "\u001b[2K     \u001b[90m━━━━━━━━━━━━━━━━━━━━━━━━━━━━━━━━━━━━━━━━\u001b[0m \u001b[32m5.0/5.0 MB\u001b[0m \u001b[31m54.2 kB/s\u001b[0m eta \u001b[36m0:00:00\u001b[0m00:01\u001b[0m00:03\u001b[0m\n",
      "\u001b[?25hRequirement already satisfied: numpy>=1.16.5 in /home/ranystephan/.local/lib/python3.10/site-packages (from yfinance) (1.24.2)\n",
      "Requirement already satisfied: platformdirs>=2.0.0 in /home/ranystephan/.local/lib/python3.10/site-packages (from yfinance) (3.0.0)\n",
      "Collecting frozendict>=2.3.4\n",
      "  Downloading frozendict-2.4.4-cp310-cp310-manylinux_2_17_x86_64.manylinux2014_x86_64.whl (117 kB)\n",
      "\u001b[2K     \u001b[90m━━━━━━━━━━━━━━━━━━━━━━━━━━━━━━━━━━━━━━\u001b[0m \u001b[32m117.3/117.3 KB\u001b[0m \u001b[31m49.7 kB/s\u001b[0m eta \u001b[36m0:00:00\u001b[0ma \u001b[36m0:00:01\u001b[0m\n",
      "\u001b[?25hRequirement already satisfied: pytz>=2022.5 in /home/ranystephan/.local/lib/python3.10/site-packages (from yfinance) (2022.7.1)\n",
      "Collecting peewee>=3.16.2\n",
      "  Downloading peewee-3.17.5.tar.gz (3.0 MB)\n",
      "\u001b[2K     \u001b[90m━━━━━━━━━━━━━━━━━━━━━━━━━━━━━━━━━━━━━━━━\u001b[0m \u001b[32m3.0/3.0 MB\u001b[0m \u001b[31m17.3 kB/s\u001b[0m eta \u001b[36m0:00:00\u001b[0m00:01\u001b[0m00:03\u001b[0m\n",
      "\u001b[?25h  Installing build dependencies ... \u001b[?25ldone\n",
      "\u001b[?25h  Getting requirements to build wheel ... \u001b[?25ldone\n",
      "\u001b[?25h  Preparing metadata (pyproject.toml) ... \u001b[?25ldone\n",
      "\u001b[?25hCollecting multitasking>=0.0.7\n",
      "  Using cached multitasking-0.0.11-py3-none-any.whl (8.5 kB)\n",
      "Requirement already satisfied: requests>=2.31 in /home/ranystephan/.local/lib/python3.10/site-packages (from yfinance) (2.31.0)\n",
      "Collecting beautifulsoup4>=4.11.1\n",
      "  Downloading beautifulsoup4-4.12.3-py3-none-any.whl (147 kB)\n",
      "\u001b[2K     \u001b[90m━━━━━━━━━━━━━━━━━━━━━━━━━━━━━━━━━━━━━━\u001b[0m \u001b[32m147.9/147.9 KB\u001b[0m \u001b[31m66.0 kB/s\u001b[0m eta \u001b[36m0:00:00\u001b[0ma \u001b[36m0:00:01\u001b[0m\n",
      "\u001b[?25hRequirement already satisfied: pandas>=1.3.0 in /home/ranystephan/.local/lib/python3.10/site-packages (from yfinance) (1.5.3)\n",
      "Collecting soupsieve>1.2\n",
      "  Using cached soupsieve-2.5-py3-none-any.whl (36 kB)\n",
      "Requirement already satisfied: six>=1.9 in /usr/lib/python3/dist-packages (from html5lib>=1.1->yfinance) (1.16.0)\n",
      "Collecting webencodings\n",
      "  Using cached webencodings-0.5.1-py2.py3-none-any.whl (11 kB)\n",
      "Requirement already satisfied: python-dateutil>=2.8.1 in /home/ranystephan/.local/lib/python3.10/site-packages (from pandas>=1.3.0->yfinance) (2.8.2)\n",
      "Requirement already satisfied: urllib3<3,>=1.21.1 in /home/ranystephan/.local/lib/python3.10/site-packages (from requests>=2.31->yfinance) (2.2.1)\n",
      "Requirement already satisfied: certifi>=2017.4.17 in /home/ranystephan/.local/lib/python3.10/site-packages (from requests>=2.31->yfinance) (2024.2.2)\n",
      "Requirement already satisfied: charset-normalizer<4,>=2 in /home/ranystephan/.local/lib/python3.10/site-packages (from requests>=2.31->yfinance) (3.3.2)\n",
      "Requirement already satisfied: idna<4,>=2.5 in /home/ranystephan/.local/lib/python3.10/site-packages (from requests>=2.31->yfinance) (3.6)\n",
      "Building wheels for collected packages: peewee\n",
      "  Building wheel for peewee (pyproject.toml) ... \u001b[?25ldone\n",
      "\u001b[?25h  Created wheel for peewee: filename=peewee-3.17.5-py3-none-any.whl size=138640 sha256=417ae33aa294c7f95fffc1d40fe2d6433f7f36c4fc3a1d42776b44534de5c6ed\n",
      "  Stored in directory: /home/ranystephan/.cache/pip/wheels/06/80/9b/98db0d58349a2f5c09f8406789ade4270762f97b7d26f2fa22\n",
      "Successfully built peewee\n",
      "Installing collected packages: webencodings, peewee, multitasking, soupsieve, lxml, html5lib, frozendict, beautifulsoup4, yfinance\n",
      "Successfully installed beautifulsoup4-4.12.3 frozendict-2.4.4 html5lib-1.1 lxml-5.2.2 multitasking-0.0.11 peewee-3.17.5 soupsieve-2.5 webencodings-0.5.1 yfinance-0.2.40\n",
      "Note: you may need to restart the kernel to use updated packages.\n"
     ]
    }
   ],
   "source": [
    "%pip install yfinance"
   ]
  },
  {
   "cell_type": "code",
   "execution_count": 93,
   "metadata": {},
   "outputs": [
    {
     "name": "stdout",
     "output_type": "stream",
     "text": [
      "Defaulting to user installation because normal site-packages is not writeable\n",
      "Collecting statsmodels\n",
      "  Using cached statsmodels-0.14.2-cp310-cp310-manylinux_2_17_x86_64.manylinux2014_x86_64.whl (10.8 MB)\n",
      "Collecting patsy>=0.5.6\n",
      "  Downloading patsy-0.5.6-py2.py3-none-any.whl (233 kB)\n",
      "\u001b[2K     \u001b[90m━━━━━━━━━━━━━━━━━━━━━━━━━━━━━━━━━━━━━\u001b[0m \u001b[32m233.9/233.9 KB\u001b[0m \u001b[31m240.5 kB/s\u001b[0m eta \u001b[36m0:00:00\u001b[0ma \u001b[36m0:00:01\u001b[0m\n",
      "\u001b[?25hRequirement already satisfied: scipy!=1.9.2,>=1.8 in /home/ranystephan/.local/lib/python3.10/site-packages (from statsmodels) (1.13.1)\n",
      "Requirement already satisfied: packaging>=21.3 in /home/ranystephan/.local/lib/python3.10/site-packages (from statsmodels) (23.0)\n",
      "Requirement already satisfied: numpy>=1.22.3 in /home/ranystephan/.local/lib/python3.10/site-packages (from statsmodels) (1.24.2)\n",
      "Requirement already satisfied: pandas!=2.1.0,>=1.4 in /home/ranystephan/.local/lib/python3.10/site-packages (from statsmodels) (1.5.3)\n",
      "Requirement already satisfied: python-dateutil>=2.8.1 in /home/ranystephan/.local/lib/python3.10/site-packages (from pandas!=2.1.0,>=1.4->statsmodels) (2.8.2)\n",
      "Requirement already satisfied: pytz>=2020.1 in /home/ranystephan/.local/lib/python3.10/site-packages (from pandas!=2.1.0,>=1.4->statsmodels) (2022.7.1)\n",
      "Requirement already satisfied: six in /usr/lib/python3/dist-packages (from patsy>=0.5.6->statsmodels) (1.16.0)\n",
      "Installing collected packages: patsy, statsmodels\n",
      "Successfully installed patsy-0.5.6 statsmodels-0.14.2\n",
      "Note: you may need to restart the kernel to use updated packages.\n"
     ]
    }
   ],
   "source": [
    "%pip install statsmodels"
   ]
  },
  {
   "cell_type": "code",
   "execution_count": 1,
   "metadata": {},
   "outputs": [],
   "source": [
    "import pandas as pd\n",
    "import numpy as np\n",
    "import statsmodels.api as sm\n",
    "from datetime import timedelta, datetime\n",
    "import os"
   ]
  },
  {
   "cell_type": "code",
   "execution_count": 27,
   "metadata": {},
   "outputs": [
    {
     "name": "stderr",
     "output_type": "stream",
     "text": [
      "/tmp/ipykernel_6550/4008502856.py:11: DtypeWarning: Columns (11,13,22,23,24,25,26,27,28,45,52,57,59,60,67,71,72,80,81,82) have mixed types. Specify dtype option on import or set low_memory=False.\n",
      "  for i, chunk in enumerate(pd.read_csv(input_file, chunksize=CHUNK)):\n"
     ]
    },
    {
     "name": "stdout",
     "output_type": "stream",
     "text": [
      "Chunk 0 done\n"
     ]
    },
    {
     "name": "stderr",
     "output_type": "stream",
     "text": [
      "/tmp/ipykernel_6550/4008502856.py:11: DtypeWarning: Columns (11,13,21,22,23,24,25,26,27,28,45,49,52,57,60,67,71,72,81,82) have mixed types. Specify dtype option on import or set low_memory=False.\n",
      "  for i, chunk in enumerate(pd.read_csv(input_file, chunksize=CHUNK)):\n"
     ]
    },
    {
     "name": "stdout",
     "output_type": "stream",
     "text": [
      "Chunk 1 done\n"
     ]
    },
    {
     "name": "stderr",
     "output_type": "stream",
     "text": [
      "/tmp/ipykernel_6550/4008502856.py:11: DtypeWarning: Columns (11,13,21,22,23,24,25,26,27,28,45,49,52,57,60,67,71,72,81,82) have mixed types. Specify dtype option on import or set low_memory=False.\n",
      "  for i, chunk in enumerate(pd.read_csv(input_file, chunksize=CHUNK)):\n"
     ]
    },
    {
     "name": "stdout",
     "output_type": "stream",
     "text": [
      "Chunk 2 done\n"
     ]
    },
    {
     "name": "stderr",
     "output_type": "stream",
     "text": [
      "/tmp/ipykernel_6550/4008502856.py:11: DtypeWarning: Columns (11,13,22,23,24,25,26,27,28,45,49,52,59,60,67,71,72,77,78,81,82) have mixed types. Specify dtype option on import or set low_memory=False.\n",
      "  for i, chunk in enumerate(pd.read_csv(input_file, chunksize=CHUNK)):\n"
     ]
    },
    {
     "name": "stdout",
     "output_type": "stream",
     "text": [
      "Chunk 3 done\n"
     ]
    },
    {
     "name": "stderr",
     "output_type": "stream",
     "text": [
      "/tmp/ipykernel_6550/4008502856.py:11: DtypeWarning: Columns (11,13,21,22,23,24,25,26,27,28,45,52,57,60,71,72,81,82) have mixed types. Specify dtype option on import or set low_memory=False.\n",
      "  for i, chunk in enumerate(pd.read_csv(input_file, chunksize=CHUNK)):\n"
     ]
    },
    {
     "name": "stdout",
     "output_type": "stream",
     "text": [
      "Chunk 4 done\n"
     ]
    },
    {
     "name": "stderr",
     "output_type": "stream",
     "text": [
      "/tmp/ipykernel_6550/4008502856.py:11: DtypeWarning: Columns (11,13,21,22,23,24,25,26,27,28,45,52,57,60,71,72,80,81,82) have mixed types. Specify dtype option on import or set low_memory=False.\n",
      "  for i, chunk in enumerate(pd.read_csv(input_file, chunksize=CHUNK)):\n"
     ]
    },
    {
     "name": "stdout",
     "output_type": "stream",
     "text": [
      "Chunk 5 done\n"
     ]
    },
    {
     "name": "stderr",
     "output_type": "stream",
     "text": [
      "/tmp/ipykernel_6550/4008502856.py:11: DtypeWarning: Columns (11,13,21,22,23,24,25,26,27,28,45,52,57,59,60,67,71,72,78,81,82) have mixed types. Specify dtype option on import or set low_memory=False.\n",
      "  for i, chunk in enumerate(pd.read_csv(input_file, chunksize=CHUNK)):\n"
     ]
    },
    {
     "name": "stdout",
     "output_type": "stream",
     "text": [
      "Chunk 6 done\n"
     ]
    },
    {
     "name": "stderr",
     "output_type": "stream",
     "text": [
      "/tmp/ipykernel_6550/4008502856.py:11: DtypeWarning: Columns (11,13,22,23,24,25,26,27,28,45,52,59,60,67,71,72,77,78,81,82) have mixed types. Specify dtype option on import or set low_memory=False.\n",
      "  for i, chunk in enumerate(pd.read_csv(input_file, chunksize=CHUNK)):\n"
     ]
    },
    {
     "name": "stdout",
     "output_type": "stream",
     "text": [
      "Chunk 7 done\n"
     ]
    },
    {
     "name": "stderr",
     "output_type": "stream",
     "text": [
      "/tmp/ipykernel_6550/4008502856.py:11: DtypeWarning: Columns (11,18,21,22,23,24,25,26,27,28,45,52,59,60,67,71,72,77,80,81,82) have mixed types. Specify dtype option on import or set low_memory=False.\n",
      "  for i, chunk in enumerate(pd.read_csv(input_file, chunksize=CHUNK)):\n"
     ]
    },
    {
     "name": "stdout",
     "output_type": "stream",
     "text": [
      "Chunk 8 done\n"
     ]
    },
    {
     "name": "stderr",
     "output_type": "stream",
     "text": [
      "/tmp/ipykernel_6550/4008502856.py:11: DtypeWarning: Columns (11,21,22,23,24,25,26,27,28,45,49,50,52,57,59,60,67,71,72,77,78,81,82) have mixed types. Specify dtype option on import or set low_memory=False.\n",
      "  for i, chunk in enumerate(pd.read_csv(input_file, chunksize=CHUNK)):\n"
     ]
    },
    {
     "name": "stdout",
     "output_type": "stream",
     "text": [
      "Chunk 9 done\n"
     ]
    },
    {
     "name": "stderr",
     "output_type": "stream",
     "text": [
      "/tmp/ipykernel_6550/4008502856.py:11: DtypeWarning: Columns (11,13,18,21,22,23,24,25,26,27,28,45,49,50,52,57,59,60,71,72,77,81,82) have mixed types. Specify dtype option on import or set low_memory=False.\n",
      "  for i, chunk in enumerate(pd.read_csv(input_file, chunksize=CHUNK)):\n"
     ]
    },
    {
     "name": "stdout",
     "output_type": "stream",
     "text": [
      "Chunk 10 done\n"
     ]
    },
    {
     "name": "stderr",
     "output_type": "stream",
     "text": [
      "/tmp/ipykernel_6550/4008502856.py:11: DtypeWarning: Columns (11,13,18,21,22,23,24,25,26,27,28,45,49,50,52,57,59,60,71,72,77,81,82) have mixed types. Specify dtype option on import or set low_memory=False.\n",
      "  for i, chunk in enumerate(pd.read_csv(input_file, chunksize=CHUNK)):\n"
     ]
    },
    {
     "name": "stdout",
     "output_type": "stream",
     "text": [
      "Chunk 11 done\n"
     ]
    },
    {
     "name": "stderr",
     "output_type": "stream",
     "text": [
      "/tmp/ipykernel_6550/4008502856.py:11: DtypeWarning: Columns (11,13,18,21,22,23,24,25,26,27,28,45,52,60,71,72,77,81,82) have mixed types. Specify dtype option on import or set low_memory=False.\n",
      "  for i, chunk in enumerate(pd.read_csv(input_file, chunksize=CHUNK)):\n"
     ]
    },
    {
     "name": "stdout",
     "output_type": "stream",
     "text": [
      "Chunk 12 done\n"
     ]
    },
    {
     "name": "stderr",
     "output_type": "stream",
     "text": [
      "/tmp/ipykernel_6550/4008502856.py:11: DtypeWarning: Columns (11,13,18,21,22,23,24,25,26,27,28,45,52,57,59,60,71,72,77,80,81,82) have mixed types. Specify dtype option on import or set low_memory=False.\n",
      "  for i, chunk in enumerate(pd.read_csv(input_file, chunksize=CHUNK)):\n"
     ]
    },
    {
     "name": "stdout",
     "output_type": "stream",
     "text": [
      "Chunk 13 done\n"
     ]
    },
    {
     "name": "stderr",
     "output_type": "stream",
     "text": [
      "/tmp/ipykernel_6550/4008502856.py:11: DtypeWarning: Columns (11,13,18,21,22,23,24,25,26,27,28,45,49,52,59,60,71,72,77,80,81,82) have mixed types. Specify dtype option on import or set low_memory=False.\n",
      "  for i, chunk in enumerate(pd.read_csv(input_file, chunksize=CHUNK)):\n"
     ]
    },
    {
     "name": "stdout",
     "output_type": "stream",
     "text": [
      "Chunk 14 done\n"
     ]
    },
    {
     "name": "stderr",
     "output_type": "stream",
     "text": [
      "/tmp/ipykernel_6550/4008502856.py:11: DtypeWarning: Columns (11,13,18,21,22,23,24,25,26,27,28,45,52,57,59,60,67,71,72,77,78,80,81,82) have mixed types. Specify dtype option on import or set low_memory=False.\n",
      "  for i, chunk in enumerate(pd.read_csv(input_file, chunksize=CHUNK)):\n"
     ]
    },
    {
     "name": "stdout",
     "output_type": "stream",
     "text": [
      "Chunk 15 done\n"
     ]
    },
    {
     "name": "stderr",
     "output_type": "stream",
     "text": [
      "/tmp/ipykernel_6550/4008502856.py:11: DtypeWarning: Columns (11,13,18,21,22,23,24,25,26,27,28,45,52,57,59,60,67,71,72,77,81,82) have mixed types. Specify dtype option on import or set low_memory=False.\n",
      "  for i, chunk in enumerate(pd.read_csv(input_file, chunksize=CHUNK)):\n"
     ]
    },
    {
     "name": "stdout",
     "output_type": "stream",
     "text": [
      "Chunk 16 done\n"
     ]
    },
    {
     "name": "stderr",
     "output_type": "stream",
     "text": [
      "/tmp/ipykernel_6550/4008502856.py:11: DtypeWarning: Columns (11,13,18,21,22,23,24,25,26,27,28,45,49,52,57,59,60,71,72,77,81,82) have mixed types. Specify dtype option on import or set low_memory=False.\n",
      "  for i, chunk in enumerate(pd.read_csv(input_file, chunksize=CHUNK)):\n"
     ]
    },
    {
     "name": "stdout",
     "output_type": "stream",
     "text": [
      "Chunk 17 done\n"
     ]
    },
    {
     "name": "stderr",
     "output_type": "stream",
     "text": [
      "/tmp/ipykernel_6550/4008502856.py:11: DtypeWarning: Columns (11,13,18,21,22,23,24,25,26,27,28,45,49,52,57,59,60,67,71,72,77,78,81,82) have mixed types. Specify dtype option on import or set low_memory=False.\n",
      "  for i, chunk in enumerate(pd.read_csv(input_file, chunksize=CHUNK)):\n"
     ]
    },
    {
     "name": "stdout",
     "output_type": "stream",
     "text": [
      "Chunk 18 done\n"
     ]
    },
    {
     "name": "stderr",
     "output_type": "stream",
     "text": [
      "/tmp/ipykernel_6550/4008502856.py:11: DtypeWarning: Columns (11,13,18,21,22,23,24,25,26,27,28,45,52,57,59,60,67,71,72,77,78,81,82) have mixed types. Specify dtype option on import or set low_memory=False.\n",
      "  for i, chunk in enumerate(pd.read_csv(input_file, chunksize=CHUNK)):\n"
     ]
    },
    {
     "name": "stdout",
     "output_type": "stream",
     "text": [
      "Chunk 19 done\n"
     ]
    },
    {
     "name": "stderr",
     "output_type": "stream",
     "text": [
      "/tmp/ipykernel_6550/4008502856.py:11: DtypeWarning: Columns (13,22,23,24,25,26,27,28,45,52,60,71,72,81) have mixed types. Specify dtype option on import or set low_memory=False.\n",
      "  for i, chunk in enumerate(pd.read_csv(input_file, chunksize=CHUNK)):\n"
     ]
    },
    {
     "name": "stdout",
     "output_type": "stream",
     "text": [
      "Chunk 20 done\n"
     ]
    },
    {
     "name": "stderr",
     "output_type": "stream",
     "text": [
      "/tmp/ipykernel_6550/4008502856.py:11: DtypeWarning: Columns (11,13,21,22,23,24,25,26,27,28,45,49,52,60,71,72,77,80,81) have mixed types. Specify dtype option on import or set low_memory=False.\n",
      "  for i, chunk in enumerate(pd.read_csv(input_file, chunksize=CHUNK)):\n"
     ]
    },
    {
     "name": "stdout",
     "output_type": "stream",
     "text": [
      "Chunk 21 done\n"
     ]
    },
    {
     "name": "stderr",
     "output_type": "stream",
     "text": [
      "/tmp/ipykernel_6550/4008502856.py:11: DtypeWarning: Columns (11,13,21,22,23,24,25,26,27,28,45,49,52,57,60,67,71,72,77,78,81,82) have mixed types. Specify dtype option on import or set low_memory=False.\n",
      "  for i, chunk in enumerate(pd.read_csv(input_file, chunksize=CHUNK)):\n"
     ]
    },
    {
     "name": "stdout",
     "output_type": "stream",
     "text": [
      "Chunk 22 done\n"
     ]
    },
    {
     "name": "stderr",
     "output_type": "stream",
     "text": [
      "/tmp/ipykernel_6550/4008502856.py:11: DtypeWarning: Columns (11,13,21,22,23,24,25,26,27,28,45,49,50,52,57,60,71,72,81) have mixed types. Specify dtype option on import or set low_memory=False.\n",
      "  for i, chunk in enumerate(pd.read_csv(input_file, chunksize=CHUNK)):\n"
     ]
    },
    {
     "name": "stdout",
     "output_type": "stream",
     "text": [
      "Chunk 23 done\n"
     ]
    },
    {
     "name": "stderr",
     "output_type": "stream",
     "text": [
      "/tmp/ipykernel_6550/4008502856.py:11: DtypeWarning: Columns (11,13,18,21,22,23,24,25,26,27,28,45,49,52,57,59,60,67,71,72,77,78,81) have mixed types. Specify dtype option on import or set low_memory=False.\n",
      "  for i, chunk in enumerate(pd.read_csv(input_file, chunksize=CHUNK)):\n"
     ]
    },
    {
     "name": "stdout",
     "output_type": "stream",
     "text": [
      "Chunk 24 done\n"
     ]
    },
    {
     "name": "stderr",
     "output_type": "stream",
     "text": [
      "/tmp/ipykernel_6550/4008502856.py:11: DtypeWarning: Columns (11,13,21,22,23,24,25,26,27,28,45,49,50,52,57,59,60,67,71,72,77,78,80,81,82) have mixed types. Specify dtype option on import or set low_memory=False.\n",
      "  for i, chunk in enumerate(pd.read_csv(input_file, chunksize=CHUNK)):\n"
     ]
    },
    {
     "name": "stdout",
     "output_type": "stream",
     "text": [
      "Chunk 25 done\n"
     ]
    },
    {
     "name": "stderr",
     "output_type": "stream",
     "text": [
      "/tmp/ipykernel_6550/4008502856.py:11: DtypeWarning: Columns (11,13,18,21,22,23,24,25,26,27,28,45,49,52,57,60,67,71,72,77,78,80,81,82) have mixed types. Specify dtype option on import or set low_memory=False.\n",
      "  for i, chunk in enumerate(pd.read_csv(input_file, chunksize=CHUNK)):\n"
     ]
    },
    {
     "name": "stdout",
     "output_type": "stream",
     "text": [
      "Chunk 26 done\n"
     ]
    },
    {
     "name": "stderr",
     "output_type": "stream",
     "text": [
      "/tmp/ipykernel_6550/4008502856.py:11: DtypeWarning: Columns (11,13,18,21,22,23,24,25,26,27,28,45,49,52,57,59,60,71,72,77,80,81) have mixed types. Specify dtype option on import or set low_memory=False.\n",
      "  for i, chunk in enumerate(pd.read_csv(input_file, chunksize=CHUNK)):\n"
     ]
    },
    {
     "name": "stdout",
     "output_type": "stream",
     "text": [
      "Chunk 27 done\n"
     ]
    },
    {
     "name": "stderr",
     "output_type": "stream",
     "text": [
      "/tmp/ipykernel_6550/4008502856.py:11: DtypeWarning: Columns (11,13,21,22,23,24,25,26,27,28,45,49,52,57,59,60,67,71,72,77,81) have mixed types. Specify dtype option on import or set low_memory=False.\n",
      "  for i, chunk in enumerate(pd.read_csv(input_file, chunksize=CHUNK)):\n"
     ]
    },
    {
     "name": "stdout",
     "output_type": "stream",
     "text": [
      "Chunk 28 done\n"
     ]
    },
    {
     "name": "stderr",
     "output_type": "stream",
     "text": [
      "/tmp/ipykernel_6550/4008502856.py:11: DtypeWarning: Columns (11,13,18,21,22,23,24,25,26,27,28,45,49,52,57,59,60,67,71,72,77,78,80,81,82) have mixed types. Specify dtype option on import or set low_memory=False.\n",
      "  for i, chunk in enumerate(pd.read_csv(input_file, chunksize=CHUNK)):\n"
     ]
    },
    {
     "name": "stdout",
     "output_type": "stream",
     "text": [
      "Chunk 29 done\n"
     ]
    },
    {
     "name": "stderr",
     "output_type": "stream",
     "text": [
      "/tmp/ipykernel_6550/4008502856.py:11: DtypeWarning: Columns (11,13,18,21,22,23,24,25,26,27,28,45,49,52,59,60,71,72,77,80,81,82) have mixed types. Specify dtype option on import or set low_memory=False.\n",
      "  for i, chunk in enumerate(pd.read_csv(input_file, chunksize=CHUNK)):\n"
     ]
    },
    {
     "name": "stdout",
     "output_type": "stream",
     "text": [
      "Chunk 30 done\n"
     ]
    },
    {
     "name": "stderr",
     "output_type": "stream",
     "text": [
      "/tmp/ipykernel_6550/4008502856.py:11: DtypeWarning: Columns (11,13,18,21,22,23,24,25,26,27,28,45,52,59,60,71,72,77,78,80,81,82) have mixed types. Specify dtype option on import or set low_memory=False.\n",
      "  for i, chunk in enumerate(pd.read_csv(input_file, chunksize=CHUNK)):\n"
     ]
    },
    {
     "name": "stdout",
     "output_type": "stream",
     "text": [
      "Chunk 31 done\n"
     ]
    },
    {
     "name": "stderr",
     "output_type": "stream",
     "text": [
      "/tmp/ipykernel_6550/4008502856.py:11: DtypeWarning: Columns (11,13,21,22,23,24,25,26,27,28,45,52,57,59,60,67,71,72,77,78,81,82) have mixed types. Specify dtype option on import or set low_memory=False.\n",
      "  for i, chunk in enumerate(pd.read_csv(input_file, chunksize=CHUNK)):\n"
     ]
    },
    {
     "name": "stdout",
     "output_type": "stream",
     "text": [
      "Chunk 32 done\n"
     ]
    },
    {
     "name": "stderr",
     "output_type": "stream",
     "text": [
      "/tmp/ipykernel_6550/4008502856.py:11: DtypeWarning: Columns (11,13,18,21,22,23,24,25,26,27,28,45,49,52,59,60,71,72,77,81,82) have mixed types. Specify dtype option on import or set low_memory=False.\n",
      "  for i, chunk in enumerate(pd.read_csv(input_file, chunksize=CHUNK)):\n"
     ]
    },
    {
     "name": "stdout",
     "output_type": "stream",
     "text": [
      "Chunk 33 done\n"
     ]
    },
    {
     "name": "stderr",
     "output_type": "stream",
     "text": [
      "/tmp/ipykernel_6550/4008502856.py:11: DtypeWarning: Columns (11,13,21,22,23,24,25,26,27,28,45,49,52,59,60,71,72,77,78,81,82) have mixed types. Specify dtype option on import or set low_memory=False.\n",
      "  for i, chunk in enumerate(pd.read_csv(input_file, chunksize=CHUNK)):\n"
     ]
    },
    {
     "name": "stdout",
     "output_type": "stream",
     "text": [
      "Chunk 34 done\n"
     ]
    },
    {
     "name": "stderr",
     "output_type": "stream",
     "text": [
      "/tmp/ipykernel_6550/4008502856.py:11: DtypeWarning: Columns (11,13,21,22,23,24,25,26,27,28,45,49,50,51,52,57,60,71,72,77,81,82) have mixed types. Specify dtype option on import or set low_memory=False.\n",
      "  for i, chunk in enumerate(pd.read_csv(input_file, chunksize=CHUNK)):\n"
     ]
    },
    {
     "name": "stdout",
     "output_type": "stream",
     "text": [
      "Chunk 35 done\n"
     ]
    },
    {
     "name": "stderr",
     "output_type": "stream",
     "text": [
      "/tmp/ipykernel_6550/4008502856.py:11: DtypeWarning: Columns (13,21,22,23,24,25,26,27,28,45,49,50,51,52,59,60,71,72,77,81,82) have mixed types. Specify dtype option on import or set low_memory=False.\n",
      "  for i, chunk in enumerate(pd.read_csv(input_file, chunksize=CHUNK)):\n"
     ]
    },
    {
     "name": "stdout",
     "output_type": "stream",
     "text": [
      "Chunk 36 done\n"
     ]
    },
    {
     "name": "stderr",
     "output_type": "stream",
     "text": [
      "/tmp/ipykernel_6550/4008502856.py:11: DtypeWarning: Columns (11,13,18,21,22,23,24,25,26,27,28,45,49,50,52,59,60,67,71,72,77,78,81,82) have mixed types. Specify dtype option on import or set low_memory=False.\n",
      "  for i, chunk in enumerate(pd.read_csv(input_file, chunksize=CHUNK)):\n"
     ]
    },
    {
     "name": "stdout",
     "output_type": "stream",
     "text": [
      "Chunk 37 done\n"
     ]
    },
    {
     "name": "stderr",
     "output_type": "stream",
     "text": [
      "/tmp/ipykernel_6550/4008502856.py:11: DtypeWarning: Columns (13,21,22,24,25,26,27,28,60,67,71,77,81) have mixed types. Specify dtype option on import or set low_memory=False.\n",
      "  for i, chunk in enumerate(pd.read_csv(input_file, chunksize=CHUNK)):\n"
     ]
    },
    {
     "name": "stdout",
     "output_type": "stream",
     "text": [
      "Chunk 38 done\n"
     ]
    }
   ],
   "source": [
    "import csv\n",
    "\n",
    "\n",
    "\n",
    "# Path to the large CSV file\n",
    "input_file = '(3)data.csv'\n",
    "\n",
    "CHUNK = 1000000\n",
    "\n",
    "# create a csv subfile for each chunk\n",
    "for i, chunk in enumerate(pd.read_csv(input_file, chunksize=CHUNK)):\n",
    "    chunk.to_csv(f'(3)data_{i}.csv', index=False, quoting=csv.QUOTE_NONNUMERIC)\n",
    "    print(f'Chunk {i} done')\n",
    "\n",
    "\n",
    "\n"
   ]
  },
  {
   "cell_type": "code",
   "execution_count": 2,
   "metadata": {},
   "outputs": [
    {
     "name": "stderr",
     "output_type": "stream",
     "text": [
      "/tmp/ipykernel_1062/2605391572.py:1: DtypeWarning: Columns (11,13,22,23,24,25,26,27,28,45,52,57,59,60,67,71,72,80,81,82) have mixed types. Specify dtype option on import or set low_memory=False.\n",
      "  df = pd.read_csv('(3)/(3)data_0.csv')\n"
     ]
    }
   ],
   "source": [
    "df = pd.read_csv('(3)/(3)data_0.csv')"
   ]
  },
  {
   "cell_type": "code",
   "execution_count": 3,
   "metadata": {},
   "outputs": [],
   "source": [
    "# only keep the columns we need\n",
    "df = df[['GVKEY', 'LPERMNO', 'tic', 'conm', 'datadate', 'prccd']]"
   ]
  },
  {
   "cell_type": "code",
   "execution_count": 5,
   "metadata": {},
   "outputs": [],
   "source": [
    "# make sure the dates are in the right format\n",
    "df['datadate'] = pd.to_datetime(df['datadate'])"
   ]
  },
  {
   "cell_type": "code",
   "execution_count": 6,
   "metadata": {},
   "outputs": [],
   "source": [
    "# sort by GVKEY and datadate\n",
    "df = df.sort_values(['GVKEY', 'datadate'])"
   ]
  },
  {
   "cell_type": "code",
   "execution_count": 7,
   "metadata": {},
   "outputs": [
    {
     "data": {
      "text/html": [
       "<div>\n",
       "<style scoped>\n",
       "    .dataframe tbody tr th:only-of-type {\n",
       "        vertical-align: middle;\n",
       "    }\n",
       "\n",
       "    .dataframe tbody tr th {\n",
       "        vertical-align: top;\n",
       "    }\n",
       "\n",
       "    .dataframe thead th {\n",
       "        text-align: right;\n",
       "    }\n",
       "</style>\n",
       "<table border=\"1\" class=\"dataframe\">\n",
       "  <thead>\n",
       "    <tr style=\"text-align: right;\">\n",
       "      <th></th>\n",
       "      <th>GVKEY</th>\n",
       "      <th>LPERMNO</th>\n",
       "      <th>tic</th>\n",
       "      <th>conm</th>\n",
       "      <th>datadate</th>\n",
       "      <th>prccd</th>\n",
       "    </tr>\n",
       "  </thead>\n",
       "  <tbody>\n",
       "    <tr>\n",
       "      <th>870</th>\n",
       "      <td>1004</td>\n",
       "      <td>54594</td>\n",
       "      <td>AIR</td>\n",
       "      <td>AAR CORP</td>\n",
       "      <td>2000-01-03</td>\n",
       "      <td>17.5625</td>\n",
       "    </tr>\n",
       "    <tr>\n",
       "      <th>5689</th>\n",
       "      <td>1004</td>\n",
       "      <td>54594</td>\n",
       "      <td>AIR</td>\n",
       "      <td>AAR CORP</td>\n",
       "      <td>2000-01-04</td>\n",
       "      <td>17.6250</td>\n",
       "    </tr>\n",
       "    <tr>\n",
       "      <th>3478</th>\n",
       "      <td>1004</td>\n",
       "      <td>54594</td>\n",
       "      <td>AIR</td>\n",
       "      <td>AAR CORP</td>\n",
       "      <td>2000-01-05</td>\n",
       "      <td>17.8125</td>\n",
       "    </tr>\n",
       "    <tr>\n",
       "      <th>1406</th>\n",
       "      <td>1004</td>\n",
       "      <td>54594</td>\n",
       "      <td>AIR</td>\n",
       "      <td>AAR CORP</td>\n",
       "      <td>2000-01-06</td>\n",
       "      <td>17.9375</td>\n",
       "    </tr>\n",
       "    <tr>\n",
       "      <th>4851</th>\n",
       "      <td>1004</td>\n",
       "      <td>54594</td>\n",
       "      <td>AIR</td>\n",
       "      <td>AAR CORP</td>\n",
       "      <td>2000-01-07</td>\n",
       "      <td>18.5625</td>\n",
       "    </tr>\n",
       "  </tbody>\n",
       "</table>\n",
       "</div>"
      ],
      "text/plain": [
       "      GVKEY  LPERMNO  tic      conm   datadate    prccd\n",
       "870    1004    54594  AIR  AAR CORP 2000-01-03  17.5625\n",
       "5689   1004    54594  AIR  AAR CORP 2000-01-04  17.6250\n",
       "3478   1004    54594  AIR  AAR CORP 2000-01-05  17.8125\n",
       "1406   1004    54594  AIR  AAR CORP 2000-01-06  17.9375\n",
       "4851   1004    54594  AIR  AAR CORP 2000-01-07  18.5625"
      ]
     },
     "execution_count": 7,
     "metadata": {},
     "output_type": "execute_result"
    }
   ],
   "source": [
    "df.head()"
   ]
  },
  {
   "cell_type": "code",
   "execution_count": 8,
   "metadata": {},
   "outputs": [],
   "source": [
    "# reset the index\n",
    "df = df.reset_index(drop=True)"
   ]
  },
  {
   "cell_type": "code",
   "execution_count": 9,
   "metadata": {},
   "outputs": [
    {
     "data": {
      "text/html": [
       "<div>\n",
       "<style scoped>\n",
       "    .dataframe tbody tr th:only-of-type {\n",
       "        vertical-align: middle;\n",
       "    }\n",
       "\n",
       "    .dataframe tbody tr th {\n",
       "        vertical-align: top;\n",
       "    }\n",
       "\n",
       "    .dataframe thead th {\n",
       "        text-align: right;\n",
       "    }\n",
       "</style>\n",
       "<table border=\"1\" class=\"dataframe\">\n",
       "  <thead>\n",
       "    <tr style=\"text-align: right;\">\n",
       "      <th></th>\n",
       "      <th>GVKEY</th>\n",
       "      <th>LPERMNO</th>\n",
       "      <th>tic</th>\n",
       "      <th>conm</th>\n",
       "      <th>datadate</th>\n",
       "      <th>prccd</th>\n",
       "    </tr>\n",
       "  </thead>\n",
       "  <tbody>\n",
       "    <tr>\n",
       "      <th>0</th>\n",
       "      <td>1004</td>\n",
       "      <td>54594</td>\n",
       "      <td>AIR</td>\n",
       "      <td>AAR CORP</td>\n",
       "      <td>2000-01-03</td>\n",
       "      <td>17.5625</td>\n",
       "    </tr>\n",
       "    <tr>\n",
       "      <th>1</th>\n",
       "      <td>1004</td>\n",
       "      <td>54594</td>\n",
       "      <td>AIR</td>\n",
       "      <td>AAR CORP</td>\n",
       "      <td>2000-01-04</td>\n",
       "      <td>17.6250</td>\n",
       "    </tr>\n",
       "    <tr>\n",
       "      <th>2</th>\n",
       "      <td>1004</td>\n",
       "      <td>54594</td>\n",
       "      <td>AIR</td>\n",
       "      <td>AAR CORP</td>\n",
       "      <td>2000-01-05</td>\n",
       "      <td>17.8125</td>\n",
       "    </tr>\n",
       "    <tr>\n",
       "      <th>3</th>\n",
       "      <td>1004</td>\n",
       "      <td>54594</td>\n",
       "      <td>AIR</td>\n",
       "      <td>AAR CORP</td>\n",
       "      <td>2000-01-06</td>\n",
       "      <td>17.9375</td>\n",
       "    </tr>\n",
       "    <tr>\n",
       "      <th>4</th>\n",
       "      <td>1004</td>\n",
       "      <td>54594</td>\n",
       "      <td>AIR</td>\n",
       "      <td>AAR CORP</td>\n",
       "      <td>2000-01-07</td>\n",
       "      <td>18.5625</td>\n",
       "    </tr>\n",
       "  </tbody>\n",
       "</table>\n",
       "</div>"
      ],
      "text/plain": [
       "   GVKEY  LPERMNO  tic      conm   datadate    prccd\n",
       "0   1004    54594  AIR  AAR CORP 2000-01-03  17.5625\n",
       "1   1004    54594  AIR  AAR CORP 2000-01-04  17.6250\n",
       "2   1004    54594  AIR  AAR CORP 2000-01-05  17.8125\n",
       "3   1004    54594  AIR  AAR CORP 2000-01-06  17.9375\n",
       "4   1004    54594  AIR  AAR CORP 2000-01-07  18.5625"
      ]
     },
     "execution_count": 9,
     "metadata": {},
     "output_type": "execute_result"
    }
   ],
   "source": [
    "df.head()"
   ]
  },
  {
   "cell_type": "code",
   "execution_count": 10,
   "metadata": {},
   "outputs": [
    {
     "data": {
      "text/plain": [
       "(1001438, 6)"
      ]
     },
     "execution_count": 10,
     "metadata": {},
     "output_type": "execute_result"
    }
   ],
   "source": [
    "df.shape"
   ]
  },
  {
   "cell_type": "code",
   "execution_count": 55,
   "metadata": {},
   "outputs": [
    {
     "name": "stderr",
     "output_type": "stream",
     "text": [
      "[*********************100%%**********************]  1 of 1 completed"
     ]
    },
    {
     "name": "stdout",
     "output_type": "stream",
     "text": [
      "CSV file 'sp500_daily_prices.csv' has been created successfully.\n"
     ]
    },
    {
     "name": "stderr",
     "output_type": "stream",
     "text": [
      "\n"
     ]
    }
   ],
   "source": [
    "# get the s&p500 daily price from 01/01/2000 till today \n",
    "import yfinance as yf\n",
    "import pandas as pd\n",
    "from datetime import datetime\n",
    "\n",
    "# Define the ticker symbol for the S&P 500 index\n",
    "ticker_symbol = '^GSPC'\n",
    "\n",
    "# Define the start and end dates\n",
    "start_date = '2000-01-01'\n",
    "end_date = datetime.today().strftime('%Y-%m-%d')\n",
    "\n",
    "# Download the historical market data\n",
    "data = yf.download(ticker_symbol, start=start_date, end=end_date)\n",
    "\n",
    "# Save the data to a CSV file\n",
    "data.to_csv('sp500_daily_prices.csv')\n",
    "\n",
    "print(\"CSV file 'sp500_daily_prices.csv' has been created successfully.\")\n"
   ]
  },
  {
   "cell_type": "code",
   "execution_count": 11,
   "metadata": {},
   "outputs": [],
   "source": [
    "spx = pd.read_csv('sp500_daily_prices.csv')"
   ]
  },
  {
   "cell_type": "code",
   "execution_count": 12,
   "metadata": {},
   "outputs": [],
   "source": [
    "spx = spx[['Date', 'Close']]"
   ]
  },
  {
   "cell_type": "code",
   "execution_count": 13,
   "metadata": {},
   "outputs": [],
   "source": [
    "# make sure the dates are in the right format\n",
    "spx['Date'] = pd.to_datetime(spx['Date'])"
   ]
  },
  {
   "cell_type": "code",
   "execution_count": 14,
   "metadata": {},
   "outputs": [],
   "source": [
    "# merge df and spx on datadate and Date\n",
    "merged = pd.merge(df, spx, how='left', left_on='datadate', right_on='Date')"
   ]
  },
  {
   "cell_type": "code",
   "execution_count": 15,
   "metadata": {},
   "outputs": [
    {
     "data": {
      "text/html": [
       "<div>\n",
       "<style scoped>\n",
       "    .dataframe tbody tr th:only-of-type {\n",
       "        vertical-align: middle;\n",
       "    }\n",
       "\n",
       "    .dataframe tbody tr th {\n",
       "        vertical-align: top;\n",
       "    }\n",
       "\n",
       "    .dataframe thead th {\n",
       "        text-align: right;\n",
       "    }\n",
       "</style>\n",
       "<table border=\"1\" class=\"dataframe\">\n",
       "  <thead>\n",
       "    <tr style=\"text-align: right;\">\n",
       "      <th></th>\n",
       "      <th>GVKEY</th>\n",
       "      <th>LPERMNO</th>\n",
       "      <th>tic</th>\n",
       "      <th>conm</th>\n",
       "      <th>datadate</th>\n",
       "      <th>prccd</th>\n",
       "      <th>Date</th>\n",
       "      <th>Close</th>\n",
       "    </tr>\n",
       "  </thead>\n",
       "  <tbody>\n",
       "    <tr>\n",
       "      <th>0</th>\n",
       "      <td>1004</td>\n",
       "      <td>54594</td>\n",
       "      <td>AIR</td>\n",
       "      <td>AAR CORP</td>\n",
       "      <td>2000-01-03</td>\n",
       "      <td>17.5625</td>\n",
       "      <td>2000-01-03</td>\n",
       "      <td>1455.219971</td>\n",
       "    </tr>\n",
       "    <tr>\n",
       "      <th>1</th>\n",
       "      <td>1004</td>\n",
       "      <td>54594</td>\n",
       "      <td>AIR</td>\n",
       "      <td>AAR CORP</td>\n",
       "      <td>2000-01-04</td>\n",
       "      <td>17.6250</td>\n",
       "      <td>2000-01-04</td>\n",
       "      <td>1399.420044</td>\n",
       "    </tr>\n",
       "    <tr>\n",
       "      <th>2</th>\n",
       "      <td>1004</td>\n",
       "      <td>54594</td>\n",
       "      <td>AIR</td>\n",
       "      <td>AAR CORP</td>\n",
       "      <td>2000-01-05</td>\n",
       "      <td>17.8125</td>\n",
       "      <td>2000-01-05</td>\n",
       "      <td>1402.109985</td>\n",
       "    </tr>\n",
       "    <tr>\n",
       "      <th>3</th>\n",
       "      <td>1004</td>\n",
       "      <td>54594</td>\n",
       "      <td>AIR</td>\n",
       "      <td>AAR CORP</td>\n",
       "      <td>2000-01-06</td>\n",
       "      <td>17.9375</td>\n",
       "      <td>2000-01-06</td>\n",
       "      <td>1403.449951</td>\n",
       "    </tr>\n",
       "    <tr>\n",
       "      <th>4</th>\n",
       "      <td>1004</td>\n",
       "      <td>54594</td>\n",
       "      <td>AIR</td>\n",
       "      <td>AAR CORP</td>\n",
       "      <td>2000-01-07</td>\n",
       "      <td>18.5625</td>\n",
       "      <td>2000-01-07</td>\n",
       "      <td>1441.469971</td>\n",
       "    </tr>\n",
       "  </tbody>\n",
       "</table>\n",
       "</div>"
      ],
      "text/plain": [
       "   GVKEY  LPERMNO  tic      conm   datadate    prccd       Date        Close\n",
       "0   1004    54594  AIR  AAR CORP 2000-01-03  17.5625 2000-01-03  1455.219971\n",
       "1   1004    54594  AIR  AAR CORP 2000-01-04  17.6250 2000-01-04  1399.420044\n",
       "2   1004    54594  AIR  AAR CORP 2000-01-05  17.8125 2000-01-05  1402.109985\n",
       "3   1004    54594  AIR  AAR CORP 2000-01-06  17.9375 2000-01-06  1403.449951\n",
       "4   1004    54594  AIR  AAR CORP 2000-01-07  18.5625 2000-01-07  1441.469971"
      ]
     },
     "execution_count": 15,
     "metadata": {},
     "output_type": "execute_result"
    }
   ],
   "source": [
    "merged.head()"
   ]
  },
  {
   "cell_type": "code",
   "execution_count": 16,
   "metadata": {},
   "outputs": [],
   "source": [
    "# merge the columns GVKEY and LPERMNO in the format 'GVKEY_LPERMNO' as 'id' \n",
    "merged['id'] = merged['GVKEY'].astype(str) + '_' + merged['LPERMNO'].astype(str)\n",
    "\n"
   ]
  },
  {
   "cell_type": "code",
   "execution_count": 17,
   "metadata": {},
   "outputs": [],
   "source": [
    "# delete the columns GVKEY and LPERMNO\n",
    "merged = merged.drop(['GVKEY', 'LPERMNO'], axis=1)"
   ]
  },
  {
   "cell_type": "code",
   "execution_count": 18,
   "metadata": {},
   "outputs": [],
   "source": [
    "merged = merged.drop(['datadate'], axis=1)"
   ]
  },
  {
   "cell_type": "code",
   "execution_count": 19,
   "metadata": {},
   "outputs": [],
   "source": [
    "# rename the columns\n",
    "merged = merged.rename(columns={'id': 'code', 'tic': 'ticker', 'conm': 'company_name', 'prccd': 'stock_price', 'Close': 'sp500_price'})"
   ]
  },
  {
   "cell_type": "code",
   "execution_count": 20,
   "metadata": {},
   "outputs": [
    {
     "data": {
      "text/html": [
       "<div>\n",
       "<style scoped>\n",
       "    .dataframe tbody tr th:only-of-type {\n",
       "        vertical-align: middle;\n",
       "    }\n",
       "\n",
       "    .dataframe tbody tr th {\n",
       "        vertical-align: top;\n",
       "    }\n",
       "\n",
       "    .dataframe thead th {\n",
       "        text-align: right;\n",
       "    }\n",
       "</style>\n",
       "<table border=\"1\" class=\"dataframe\">\n",
       "  <thead>\n",
       "    <tr style=\"text-align: right;\">\n",
       "      <th></th>\n",
       "      <th>ticker</th>\n",
       "      <th>company_name</th>\n",
       "      <th>stock_price</th>\n",
       "      <th>Date</th>\n",
       "      <th>sp500_price</th>\n",
       "      <th>code</th>\n",
       "    </tr>\n",
       "  </thead>\n",
       "  <tbody>\n",
       "    <tr>\n",
       "      <th>0</th>\n",
       "      <td>AIR</td>\n",
       "      <td>AAR CORP</td>\n",
       "      <td>17.5625</td>\n",
       "      <td>2000-01-03</td>\n",
       "      <td>1455.219971</td>\n",
       "      <td>1004_54594</td>\n",
       "    </tr>\n",
       "    <tr>\n",
       "      <th>1</th>\n",
       "      <td>AIR</td>\n",
       "      <td>AAR CORP</td>\n",
       "      <td>17.6250</td>\n",
       "      <td>2000-01-04</td>\n",
       "      <td>1399.420044</td>\n",
       "      <td>1004_54594</td>\n",
       "    </tr>\n",
       "    <tr>\n",
       "      <th>2</th>\n",
       "      <td>AIR</td>\n",
       "      <td>AAR CORP</td>\n",
       "      <td>17.8125</td>\n",
       "      <td>2000-01-05</td>\n",
       "      <td>1402.109985</td>\n",
       "      <td>1004_54594</td>\n",
       "    </tr>\n",
       "    <tr>\n",
       "      <th>3</th>\n",
       "      <td>AIR</td>\n",
       "      <td>AAR CORP</td>\n",
       "      <td>17.9375</td>\n",
       "      <td>2000-01-06</td>\n",
       "      <td>1403.449951</td>\n",
       "      <td>1004_54594</td>\n",
       "    </tr>\n",
       "    <tr>\n",
       "      <th>4</th>\n",
       "      <td>AIR</td>\n",
       "      <td>AAR CORP</td>\n",
       "      <td>18.5625</td>\n",
       "      <td>2000-01-07</td>\n",
       "      <td>1441.469971</td>\n",
       "      <td>1004_54594</td>\n",
       "    </tr>\n",
       "  </tbody>\n",
       "</table>\n",
       "</div>"
      ],
      "text/plain": [
       "  ticker company_name  stock_price       Date  sp500_price        code\n",
       "0    AIR     AAR CORP      17.5625 2000-01-03  1455.219971  1004_54594\n",
       "1    AIR     AAR CORP      17.6250 2000-01-04  1399.420044  1004_54594\n",
       "2    AIR     AAR CORP      17.8125 2000-01-05  1402.109985  1004_54594\n",
       "3    AIR     AAR CORP      17.9375 2000-01-06  1403.449951  1004_54594\n",
       "4    AIR     AAR CORP      18.5625 2000-01-07  1441.469971  1004_54594"
      ]
     },
     "execution_count": 20,
     "metadata": {},
     "output_type": "execute_result"
    }
   ],
   "source": [
    "merged.head()"
   ]
  },
  {
   "cell_type": "code",
   "execution_count": 21,
   "metadata": {},
   "outputs": [],
   "source": [
    "\"\"\"\n",
    "Description: This function calculates the compounded weekly returns for a given time series of daily prices.\n",
    "Parameters:\n",
    "    daily_prices: pd.Series - A time series of daily prices\n",
    "\n",
    "Note:\n",
    "    This function will take in the daily prices and calculate the daily returns.\n",
    "    It will then resample the daily returns to weekly, with weeks ending on Wednesday.\n",
    "    The weekly returns are then compounded to get the compounded weekly returns.\n",
    "\"\"\"\n",
    "def calculate_compounded_returns(daily_prices):\n",
    "    # Calculate daily returns\n",
    "    daily_returns = daily_prices.pct_change().add(1)\n",
    "\n",
    "    # Resample to weekly, with weeks ending on Wednesday\n",
    "    # Calculate the product of returns for each week to get compounded return\n",
    "    weekly_compounded_returns = daily_returns.resample('W-WED').prod().sub(1)\n",
    "\n",
    "    return weekly_compounded_returns\n"
   ]
  },
  {
   "cell_type": "code",
   "execution_count": 22,
   "metadata": {},
   "outputs": [],
   "source": [
    "# Putting this into a function\n",
    "# adding weekly returns\n",
    "def add_weekly_returns(df):\n",
    "    \n",
    "\n",
    "    # Convert 'Date' to datetime format and set as index\n",
    "    df['Date'] = pd.to_datetime(df['Date'])\n",
    "    df.set_index('Date', inplace=True)\n",
    "    \n",
    "    # Lists to store the results\n",
    "    results = []\n",
    "    \n",
    "    # Loop through each stock in the dataframe\n",
    "    for code, group in df.groupby('code'):\n",
    "        # Calculate compounded returns for each group\n",
    "        group['stock_weekly_returns'] = calculate_compounded_returns(group['stock_price'])\n",
    "        group['market_weekly_returns'] = calculate_compounded_returns(group['sp500_price'])\n",
    "        \n",
    "        results.append(group)\n",
    "        \n",
    "    # Concatenate the results and reset the index\n",
    "    df = pd.concat(results)\n",
    "    \n",
    "    return df\n"
   ]
  },
  {
   "cell_type": "code",
   "execution_count": 23,
   "metadata": {},
   "outputs": [
    {
     "data": {
      "text/html": [
       "<div>\n",
       "<style scoped>\n",
       "    .dataframe tbody tr th:only-of-type {\n",
       "        vertical-align: middle;\n",
       "    }\n",
       "\n",
       "    .dataframe tbody tr th {\n",
       "        vertical-align: top;\n",
       "    }\n",
       "\n",
       "    .dataframe thead th {\n",
       "        text-align: right;\n",
       "    }\n",
       "</style>\n",
       "<table border=\"1\" class=\"dataframe\">\n",
       "  <thead>\n",
       "    <tr style=\"text-align: right;\">\n",
       "      <th></th>\n",
       "      <th>ticker</th>\n",
       "      <th>company_name</th>\n",
       "      <th>stock_price</th>\n",
       "      <th>Date</th>\n",
       "      <th>sp500_price</th>\n",
       "      <th>code</th>\n",
       "    </tr>\n",
       "  </thead>\n",
       "  <tbody>\n",
       "    <tr>\n",
       "      <th>0</th>\n",
       "      <td>AIR</td>\n",
       "      <td>AAR CORP</td>\n",
       "      <td>17.5625</td>\n",
       "      <td>2000-01-03</td>\n",
       "      <td>1455.219971</td>\n",
       "      <td>1004_54594</td>\n",
       "    </tr>\n",
       "    <tr>\n",
       "      <th>1</th>\n",
       "      <td>AIR</td>\n",
       "      <td>AAR CORP</td>\n",
       "      <td>17.6250</td>\n",
       "      <td>2000-01-04</td>\n",
       "      <td>1399.420044</td>\n",
       "      <td>1004_54594</td>\n",
       "    </tr>\n",
       "    <tr>\n",
       "      <th>2</th>\n",
       "      <td>AIR</td>\n",
       "      <td>AAR CORP</td>\n",
       "      <td>17.8125</td>\n",
       "      <td>2000-01-05</td>\n",
       "      <td>1402.109985</td>\n",
       "      <td>1004_54594</td>\n",
       "    </tr>\n",
       "    <tr>\n",
       "      <th>3</th>\n",
       "      <td>AIR</td>\n",
       "      <td>AAR CORP</td>\n",
       "      <td>17.9375</td>\n",
       "      <td>2000-01-06</td>\n",
       "      <td>1403.449951</td>\n",
       "      <td>1004_54594</td>\n",
       "    </tr>\n",
       "    <tr>\n",
       "      <th>4</th>\n",
       "      <td>AIR</td>\n",
       "      <td>AAR CORP</td>\n",
       "      <td>18.5625</td>\n",
       "      <td>2000-01-07</td>\n",
       "      <td>1441.469971</td>\n",
       "      <td>1004_54594</td>\n",
       "    </tr>\n",
       "    <tr>\n",
       "      <th>...</th>\n",
       "      <td>...</td>\n",
       "      <td>...</td>\n",
       "      <td>...</td>\n",
       "      <td>...</td>\n",
       "      <td>...</td>\n",
       "      <td>...</td>\n",
       "    </tr>\n",
       "    <tr>\n",
       "      <th>1001433</th>\n",
       "      <td>BNI</td>\n",
       "      <td>BURLINGTON NORTHERN SANTA FE</td>\n",
       "      <td>99.7400</td>\n",
       "      <td>2010-02-08</td>\n",
       "      <td>1056.739990</td>\n",
       "      <td>2490_50227</td>\n",
       "    </tr>\n",
       "    <tr>\n",
       "      <th>1001434</th>\n",
       "      <td>BNI</td>\n",
       "      <td>BURLINGTON NORTHERN SANTA FE</td>\n",
       "      <td>99.9100</td>\n",
       "      <td>2010-02-09</td>\n",
       "      <td>1070.520020</td>\n",
       "      <td>2490_50227</td>\n",
       "    </tr>\n",
       "    <tr>\n",
       "      <th>1001435</th>\n",
       "      <td>BNI</td>\n",
       "      <td>BURLINGTON NORTHERN SANTA FE</td>\n",
       "      <td>99.9600</td>\n",
       "      <td>2010-02-10</td>\n",
       "      <td>1068.130005</td>\n",
       "      <td>2490_50227</td>\n",
       "    </tr>\n",
       "    <tr>\n",
       "      <th>1001436</th>\n",
       "      <td>BNI</td>\n",
       "      <td>BURLINGTON NORTHERN SANTA FE</td>\n",
       "      <td>100.2300</td>\n",
       "      <td>2010-02-11</td>\n",
       "      <td>1078.469971</td>\n",
       "      <td>2490_50227</td>\n",
       "    </tr>\n",
       "    <tr>\n",
       "      <th>1001437</th>\n",
       "      <td>BNI</td>\n",
       "      <td>BURLINGTON NORTHERN SANTA FE</td>\n",
       "      <td>100.2100</td>\n",
       "      <td>2010-02-12</td>\n",
       "      <td>1075.510010</td>\n",
       "      <td>2490_50227</td>\n",
       "    </tr>\n",
       "  </tbody>\n",
       "</table>\n",
       "<p>1001438 rows × 6 columns</p>\n",
       "</div>"
      ],
      "text/plain": [
       "        ticker                  company_name  stock_price       Date  \\\n",
       "0          AIR                      AAR CORP      17.5625 2000-01-03   \n",
       "1          AIR                      AAR CORP      17.6250 2000-01-04   \n",
       "2          AIR                      AAR CORP      17.8125 2000-01-05   \n",
       "3          AIR                      AAR CORP      17.9375 2000-01-06   \n",
       "4          AIR                      AAR CORP      18.5625 2000-01-07   \n",
       "...        ...                           ...          ...        ...   \n",
       "1001433    BNI  BURLINGTON NORTHERN SANTA FE      99.7400 2010-02-08   \n",
       "1001434    BNI  BURLINGTON NORTHERN SANTA FE      99.9100 2010-02-09   \n",
       "1001435    BNI  BURLINGTON NORTHERN SANTA FE      99.9600 2010-02-10   \n",
       "1001436    BNI  BURLINGTON NORTHERN SANTA FE     100.2300 2010-02-11   \n",
       "1001437    BNI  BURLINGTON NORTHERN SANTA FE     100.2100 2010-02-12   \n",
       "\n",
       "         sp500_price        code  \n",
       "0        1455.219971  1004_54594  \n",
       "1        1399.420044  1004_54594  \n",
       "2        1402.109985  1004_54594  \n",
       "3        1403.449951  1004_54594  \n",
       "4        1441.469971  1004_54594  \n",
       "...              ...         ...  \n",
       "1001433  1056.739990  2490_50227  \n",
       "1001434  1070.520020  2490_50227  \n",
       "1001435  1068.130005  2490_50227  \n",
       "1001436  1078.469971  2490_50227  \n",
       "1001437  1075.510010  2490_50227  \n",
       "\n",
       "[1001438 rows x 6 columns]"
      ]
     },
     "execution_count": 23,
     "metadata": {},
     "output_type": "execute_result"
    }
   ],
   "source": [
    "merged"
   ]
  },
  {
   "cell_type": "code",
   "execution_count": 24,
   "metadata": {},
   "outputs": [],
   "source": [
    "df_temp = add_weekly_returns(merged)"
   ]
  },
  {
   "cell_type": "code",
   "execution_count": 25,
   "metadata": {},
   "outputs": [
    {
     "data": {
      "text/html": [
       "<div>\n",
       "<style scoped>\n",
       "    .dataframe tbody tr th:only-of-type {\n",
       "        vertical-align: middle;\n",
       "    }\n",
       "\n",
       "    .dataframe tbody tr th {\n",
       "        vertical-align: top;\n",
       "    }\n",
       "\n",
       "    .dataframe thead th {\n",
       "        text-align: right;\n",
       "    }\n",
       "</style>\n",
       "<table border=\"1\" class=\"dataframe\">\n",
       "  <thead>\n",
       "    <tr style=\"text-align: right;\">\n",
       "      <th></th>\n",
       "      <th>ticker</th>\n",
       "      <th>company_name</th>\n",
       "      <th>stock_price</th>\n",
       "      <th>sp500_price</th>\n",
       "      <th>code</th>\n",
       "      <th>stock_weekly_returns</th>\n",
       "      <th>market_weekly_returns</th>\n",
       "    </tr>\n",
       "    <tr>\n",
       "      <th>Date</th>\n",
       "      <th></th>\n",
       "      <th></th>\n",
       "      <th></th>\n",
       "      <th></th>\n",
       "      <th></th>\n",
       "      <th></th>\n",
       "      <th></th>\n",
       "    </tr>\n",
       "  </thead>\n",
       "  <tbody>\n",
       "    <tr>\n",
       "      <th>2000-01-03</th>\n",
       "      <td>AIR</td>\n",
       "      <td>AAR CORP</td>\n",
       "      <td>17.5625</td>\n",
       "      <td>1455.219971</td>\n",
       "      <td>1004_54594</td>\n",
       "      <td>NaN</td>\n",
       "      <td>NaN</td>\n",
       "    </tr>\n",
       "    <tr>\n",
       "      <th>2000-01-04</th>\n",
       "      <td>AIR</td>\n",
       "      <td>AAR CORP</td>\n",
       "      <td>17.6250</td>\n",
       "      <td>1399.420044</td>\n",
       "      <td>1004_54594</td>\n",
       "      <td>NaN</td>\n",
       "      <td>NaN</td>\n",
       "    </tr>\n",
       "    <tr>\n",
       "      <th>2000-01-05</th>\n",
       "      <td>AIR</td>\n",
       "      <td>AAR CORP</td>\n",
       "      <td>17.8125</td>\n",
       "      <td>1402.109985</td>\n",
       "      <td>1004_54594</td>\n",
       "      <td>0.014235</td>\n",
       "      <td>-0.036496</td>\n",
       "    </tr>\n",
       "    <tr>\n",
       "      <th>2000-01-06</th>\n",
       "      <td>AIR</td>\n",
       "      <td>AAR CORP</td>\n",
       "      <td>17.9375</td>\n",
       "      <td>1403.449951</td>\n",
       "      <td>1004_54594</td>\n",
       "      <td>NaN</td>\n",
       "      <td>NaN</td>\n",
       "    </tr>\n",
       "    <tr>\n",
       "      <th>2000-01-07</th>\n",
       "      <td>AIR</td>\n",
       "      <td>AAR CORP</td>\n",
       "      <td>18.5625</td>\n",
       "      <td>1441.469971</td>\n",
       "      <td>1004_54594</td>\n",
       "      <td>NaN</td>\n",
       "      <td>NaN</td>\n",
       "    </tr>\n",
       "  </tbody>\n",
       "</table>\n",
       "</div>"
      ],
      "text/plain": [
       "           ticker company_name  stock_price  sp500_price        code  \\\n",
       "Date                                                                   \n",
       "2000-01-03    AIR     AAR CORP      17.5625  1455.219971  1004_54594   \n",
       "2000-01-04    AIR     AAR CORP      17.6250  1399.420044  1004_54594   \n",
       "2000-01-05    AIR     AAR CORP      17.8125  1402.109985  1004_54594   \n",
       "2000-01-06    AIR     AAR CORP      17.9375  1403.449951  1004_54594   \n",
       "2000-01-07    AIR     AAR CORP      18.5625  1441.469971  1004_54594   \n",
       "\n",
       "            stock_weekly_returns  market_weekly_returns  \n",
       "Date                                                     \n",
       "2000-01-03                   NaN                    NaN  \n",
       "2000-01-04                   NaN                    NaN  \n",
       "2000-01-05              0.014235              -0.036496  \n",
       "2000-01-06                   NaN                    NaN  \n",
       "2000-01-07                   NaN                    NaN  "
      ]
     },
     "execution_count": 25,
     "metadata": {},
     "output_type": "execute_result"
    }
   ],
   "source": [
    "df_temp.to_csv('(3)/data_process/(3)data_weekly_returns.csv', index=False)\n",
    "df_temp.head()"
   ]
  },
  {
   "cell_type": "code",
   "execution_count": 27,
   "metadata": {},
   "outputs": [
    {
     "data": {
      "text/html": [
       "<div>\n",
       "<style scoped>\n",
       "    .dataframe tbody tr th:only-of-type {\n",
       "        vertical-align: middle;\n",
       "    }\n",
       "\n",
       "    .dataframe tbody tr th {\n",
       "        vertical-align: top;\n",
       "    }\n",
       "\n",
       "    .dataframe thead th {\n",
       "        text-align: right;\n",
       "    }\n",
       "</style>\n",
       "<table border=\"1\" class=\"dataframe\">\n",
       "  <thead>\n",
       "    <tr style=\"text-align: right;\">\n",
       "      <th></th>\n",
       "      <th>ticker</th>\n",
       "      <th>company_name</th>\n",
       "      <th>stock_price</th>\n",
       "      <th>sp500_price</th>\n",
       "      <th>code</th>\n",
       "      <th>stock_weekly_returns</th>\n",
       "      <th>market_weekly_returns</th>\n",
       "    </tr>\n",
       "    <tr>\n",
       "      <th>Date</th>\n",
       "      <th></th>\n",
       "      <th></th>\n",
       "      <th></th>\n",
       "      <th></th>\n",
       "      <th></th>\n",
       "      <th></th>\n",
       "      <th></th>\n",
       "    </tr>\n",
       "  </thead>\n",
       "  <tbody>\n",
       "    <tr>\n",
       "      <th>2000-01-05</th>\n",
       "      <td>AIR</td>\n",
       "      <td>AAR CORP</td>\n",
       "      <td>17.8125</td>\n",
       "      <td>1402.109985</td>\n",
       "      <td>1004_54594</td>\n",
       "      <td>0.014235</td>\n",
       "      <td>-0.036496</td>\n",
       "    </tr>\n",
       "    <tr>\n",
       "      <th>2000-01-12</th>\n",
       "      <td>AIR</td>\n",
       "      <td>AAR CORP</td>\n",
       "      <td>21.5625</td>\n",
       "      <td>1432.250000</td>\n",
       "      <td>1004_54594</td>\n",
       "      <td>0.210526</td>\n",
       "      <td>0.021496</td>\n",
       "    </tr>\n",
       "    <tr>\n",
       "      <th>2000-01-19</th>\n",
       "      <td>AIR</td>\n",
       "      <td>AAR CORP</td>\n",
       "      <td>19.9375</td>\n",
       "      <td>1455.900024</td>\n",
       "      <td>1004_54594</td>\n",
       "      <td>-0.075362</td>\n",
       "      <td>0.016512</td>\n",
       "    </tr>\n",
       "    <tr>\n",
       "      <th>2000-01-26</th>\n",
       "      <td>AIR</td>\n",
       "      <td>AAR CORP</td>\n",
       "      <td>18.5625</td>\n",
       "      <td>1404.089966</td>\n",
       "      <td>1004_54594</td>\n",
       "      <td>-0.068966</td>\n",
       "      <td>-0.035586</td>\n",
       "    </tr>\n",
       "    <tr>\n",
       "      <th>2000-02-02</th>\n",
       "      <td>AIR</td>\n",
       "      <td>AAR CORP</td>\n",
       "      <td>18.4375</td>\n",
       "      <td>1409.119995</td>\n",
       "      <td>1004_54594</td>\n",
       "      <td>-0.006734</td>\n",
       "      <td>0.003582</td>\n",
       "    </tr>\n",
       "  </tbody>\n",
       "</table>\n",
       "</div>"
      ],
      "text/plain": [
       "           ticker company_name  stock_price  sp500_price        code  \\\n",
       "Date                                                                   \n",
       "2000-01-05    AIR     AAR CORP      17.8125  1402.109985  1004_54594   \n",
       "2000-01-12    AIR     AAR CORP      21.5625  1432.250000  1004_54594   \n",
       "2000-01-19    AIR     AAR CORP      19.9375  1455.900024  1004_54594   \n",
       "2000-01-26    AIR     AAR CORP      18.5625  1404.089966  1004_54594   \n",
       "2000-02-02    AIR     AAR CORP      18.4375  1409.119995  1004_54594   \n",
       "\n",
       "            stock_weekly_returns  market_weekly_returns  \n",
       "Date                                                     \n",
       "2000-01-05              0.014235              -0.036496  \n",
       "2000-01-12              0.210526               0.021496  \n",
       "2000-01-19             -0.075362               0.016512  \n",
       "2000-01-26             -0.068966              -0.035586  \n",
       "2000-02-02             -0.006734               0.003582  "
      ]
     },
     "execution_count": 27,
     "metadata": {},
     "output_type": "execute_result"
    }
   ],
   "source": [
    "# drop na values\n",
    "df_temp.dropna(inplace=True)\n",
    "df_temp.to_csv('(3)/data_process/(3)data_weekly_returns.csv', index=False)\n",
    "df_temp.head()"
   ]
  },
  {
   "cell_type": "code",
   "execution_count": 28,
   "metadata": {},
   "outputs": [],
   "source": [
    "def calculate_lagged_returns(df):\n",
    "    results = []\n",
    "\n",
    "    # Group by 'code' and calculate lagged returns for each group\n",
    "    for code, group in df.groupby('code'):\n",
    "        # Calculate Lagged Returns\n",
    "        for n in range(1, 5):\n",
    "            group[f'market_returns_lag_{n}'] = group['market_weekly_returns'].shift(n)\n",
    "\n",
    "        # Remove rows with NaN values which result from lagging\n",
    "        group.dropna(inplace=True)\n",
    "\n",
    "        # Append the group to the results list\n",
    "        results.append(group)\n",
    "\n",
    "    # Concatenate all the groups back into a single DataFrame\n",
    "    df = pd.concat(results)\n",
    "\n",
    "    # Save to CSV if needed\n",
    "    df.to_csv('(3)/data_process/(3)data_with_lags.csv')\n",
    "\n",
    "    return df\n"
   ]
  },
  {
   "cell_type": "code",
   "execution_count": 29,
   "metadata": {},
   "outputs": [
    {
     "data": {
      "text/html": [
       "<div>\n",
       "<style scoped>\n",
       "    .dataframe tbody tr th:only-of-type {\n",
       "        vertical-align: middle;\n",
       "    }\n",
       "\n",
       "    .dataframe tbody tr th {\n",
       "        vertical-align: top;\n",
       "    }\n",
       "\n",
       "    .dataframe thead th {\n",
       "        text-align: right;\n",
       "    }\n",
       "</style>\n",
       "<table border=\"1\" class=\"dataframe\">\n",
       "  <thead>\n",
       "    <tr style=\"text-align: right;\">\n",
       "      <th></th>\n",
       "      <th>ticker</th>\n",
       "      <th>company_name</th>\n",
       "      <th>stock_price</th>\n",
       "      <th>sp500_price</th>\n",
       "      <th>code</th>\n",
       "      <th>stock_weekly_returns</th>\n",
       "      <th>market_weekly_returns</th>\n",
       "      <th>market_returns_lag_1</th>\n",
       "      <th>market_returns_lag_2</th>\n",
       "      <th>market_returns_lag_3</th>\n",
       "      <th>market_returns_lag_4</th>\n",
       "    </tr>\n",
       "    <tr>\n",
       "      <th>Date</th>\n",
       "      <th></th>\n",
       "      <th></th>\n",
       "      <th></th>\n",
       "      <th></th>\n",
       "      <th></th>\n",
       "      <th></th>\n",
       "      <th></th>\n",
       "      <th></th>\n",
       "      <th></th>\n",
       "      <th></th>\n",
       "      <th></th>\n",
       "    </tr>\n",
       "  </thead>\n",
       "  <tbody>\n",
       "    <tr>\n",
       "      <th>2000-02-02</th>\n",
       "      <td>AIR</td>\n",
       "      <td>AAR CORP</td>\n",
       "      <td>18.4375</td>\n",
       "      <td>1409.119995</td>\n",
       "      <td>1004_54594</td>\n",
       "      <td>-0.006734</td>\n",
       "      <td>0.003582</td>\n",
       "      <td>-0.035586</td>\n",
       "      <td>0.016512</td>\n",
       "      <td>0.021496</td>\n",
       "      <td>-0.036496</td>\n",
       "    </tr>\n",
       "    <tr>\n",
       "      <th>2000-02-09</th>\n",
       "      <td>AIR</td>\n",
       "      <td>AAR CORP</td>\n",
       "      <td>18.9375</td>\n",
       "      <td>1411.709961</td>\n",
       "      <td>1004_54594</td>\n",
       "      <td>0.027119</td>\n",
       "      <td>0.001838</td>\n",
       "      <td>0.003582</td>\n",
       "      <td>-0.035586</td>\n",
       "      <td>0.016512</td>\n",
       "      <td>0.021496</td>\n",
       "    </tr>\n",
       "    <tr>\n",
       "      <th>2000-02-16</th>\n",
       "      <td>AIR</td>\n",
       "      <td>AAR CORP</td>\n",
       "      <td>23.1250</td>\n",
       "      <td>1387.670044</td>\n",
       "      <td>1004_54594</td>\n",
       "      <td>0.221122</td>\n",
       "      <td>-0.017029</td>\n",
       "      <td>0.001838</td>\n",
       "      <td>0.003582</td>\n",
       "      <td>-0.035586</td>\n",
       "      <td>0.016512</td>\n",
       "    </tr>\n",
       "    <tr>\n",
       "      <th>2000-02-23</th>\n",
       "      <td>AIR</td>\n",
       "      <td>AAR CORP</td>\n",
       "      <td>23.3125</td>\n",
       "      <td>1360.689941</td>\n",
       "      <td>1004_54594</td>\n",
       "      <td>0.008108</td>\n",
       "      <td>-0.019443</td>\n",
       "      <td>-0.017029</td>\n",
       "      <td>0.001838</td>\n",
       "      <td>0.003582</td>\n",
       "      <td>-0.035586</td>\n",
       "    </tr>\n",
       "    <tr>\n",
       "      <th>2000-03-01</th>\n",
       "      <td>AIR</td>\n",
       "      <td>AAR CORP</td>\n",
       "      <td>23.6250</td>\n",
       "      <td>1379.189941</td>\n",
       "      <td>1004_54594</td>\n",
       "      <td>0.013405</td>\n",
       "      <td>0.013596</td>\n",
       "      <td>-0.019443</td>\n",
       "      <td>-0.017029</td>\n",
       "      <td>0.001838</td>\n",
       "      <td>0.003582</td>\n",
       "    </tr>\n",
       "  </tbody>\n",
       "</table>\n",
       "</div>"
      ],
      "text/plain": [
       "           ticker company_name  stock_price  sp500_price        code  \\\n",
       "Date                                                                   \n",
       "2000-02-02    AIR     AAR CORP      18.4375  1409.119995  1004_54594   \n",
       "2000-02-09    AIR     AAR CORP      18.9375  1411.709961  1004_54594   \n",
       "2000-02-16    AIR     AAR CORP      23.1250  1387.670044  1004_54594   \n",
       "2000-02-23    AIR     AAR CORP      23.3125  1360.689941  1004_54594   \n",
       "2000-03-01    AIR     AAR CORP      23.6250  1379.189941  1004_54594   \n",
       "\n",
       "            stock_weekly_returns  market_weekly_returns  market_returns_lag_1  \\\n",
       "Date                                                                            \n",
       "2000-02-02             -0.006734               0.003582             -0.035586   \n",
       "2000-02-09              0.027119               0.001838              0.003582   \n",
       "2000-02-16              0.221122              -0.017029              0.001838   \n",
       "2000-02-23              0.008108              -0.019443             -0.017029   \n",
       "2000-03-01              0.013405               0.013596             -0.019443   \n",
       "\n",
       "            market_returns_lag_2  market_returns_lag_3  market_returns_lag_4  \n",
       "Date                                                                          \n",
       "2000-02-02              0.016512              0.021496             -0.036496  \n",
       "2000-02-09             -0.035586              0.016512              0.021496  \n",
       "2000-02-16              0.003582             -0.035586              0.016512  \n",
       "2000-02-23              0.001838              0.003582             -0.035586  \n",
       "2000-03-01             -0.017029              0.001838              0.003582  "
      ]
     },
     "execution_count": 29,
     "metadata": {},
     "output_type": "execute_result"
    }
   ],
   "source": [
    "# Calculate lagged returns\n",
    "df_temp = calculate_lagged_returns(df_temp)\n",
    "df_temp.head()"
   ]
  },
  {
   "cell_type": "code",
   "execution_count": 30,
   "metadata": {},
   "outputs": [
    {
     "data": {
      "text/html": [
       "<div>\n",
       "<style scoped>\n",
       "    .dataframe tbody tr th:only-of-type {\n",
       "        vertical-align: middle;\n",
       "    }\n",
       "\n",
       "    .dataframe tbody tr th {\n",
       "        vertical-align: top;\n",
       "    }\n",
       "\n",
       "    .dataframe thead th {\n",
       "        text-align: right;\n",
       "    }\n",
       "</style>\n",
       "<table border=\"1\" class=\"dataframe\">\n",
       "  <thead>\n",
       "    <tr style=\"text-align: right;\">\n",
       "      <th></th>\n",
       "      <th>Date</th>\n",
       "      <th>ticker</th>\n",
       "      <th>company_name</th>\n",
       "      <th>stock_price</th>\n",
       "      <th>sp500_price</th>\n",
       "      <th>code</th>\n",
       "      <th>stock_weekly_returns</th>\n",
       "      <th>market_weekly_returns</th>\n",
       "      <th>market_returns_lag_1</th>\n",
       "      <th>market_returns_lag_2</th>\n",
       "      <th>market_returns_lag_3</th>\n",
       "      <th>market_returns_lag_4</th>\n",
       "    </tr>\n",
       "  </thead>\n",
       "  <tbody>\n",
       "    <tr>\n",
       "      <th>0</th>\n",
       "      <td>2000-02-02</td>\n",
       "      <td>AIR</td>\n",
       "      <td>AAR CORP</td>\n",
       "      <td>18.4375</td>\n",
       "      <td>1409.119995</td>\n",
       "      <td>1004_54594</td>\n",
       "      <td>-0.006734</td>\n",
       "      <td>0.003582</td>\n",
       "      <td>-0.035586</td>\n",
       "      <td>0.016512</td>\n",
       "      <td>0.021496</td>\n",
       "      <td>-0.036496</td>\n",
       "    </tr>\n",
       "    <tr>\n",
       "      <th>1</th>\n",
       "      <td>2000-02-09</td>\n",
       "      <td>AIR</td>\n",
       "      <td>AAR CORP</td>\n",
       "      <td>18.9375</td>\n",
       "      <td>1411.709961</td>\n",
       "      <td>1004_54594</td>\n",
       "      <td>0.027119</td>\n",
       "      <td>0.001838</td>\n",
       "      <td>0.003582</td>\n",
       "      <td>-0.035586</td>\n",
       "      <td>0.016512</td>\n",
       "      <td>0.021496</td>\n",
       "    </tr>\n",
       "    <tr>\n",
       "      <th>2</th>\n",
       "      <td>2000-02-16</td>\n",
       "      <td>AIR</td>\n",
       "      <td>AAR CORP</td>\n",
       "      <td>23.1250</td>\n",
       "      <td>1387.670044</td>\n",
       "      <td>1004_54594</td>\n",
       "      <td>0.221122</td>\n",
       "      <td>-0.017029</td>\n",
       "      <td>0.001838</td>\n",
       "      <td>0.003582</td>\n",
       "      <td>-0.035586</td>\n",
       "      <td>0.016512</td>\n",
       "    </tr>\n",
       "    <tr>\n",
       "      <th>3</th>\n",
       "      <td>2000-02-23</td>\n",
       "      <td>AIR</td>\n",
       "      <td>AAR CORP</td>\n",
       "      <td>23.3125</td>\n",
       "      <td>1360.689941</td>\n",
       "      <td>1004_54594</td>\n",
       "      <td>0.008108</td>\n",
       "      <td>-0.019443</td>\n",
       "      <td>-0.017029</td>\n",
       "      <td>0.001838</td>\n",
       "      <td>0.003582</td>\n",
       "      <td>-0.035586</td>\n",
       "    </tr>\n",
       "    <tr>\n",
       "      <th>4</th>\n",
       "      <td>2000-03-01</td>\n",
       "      <td>AIR</td>\n",
       "      <td>AAR CORP</td>\n",
       "      <td>23.6250</td>\n",
       "      <td>1379.189941</td>\n",
       "      <td>1004_54594</td>\n",
       "      <td>0.013405</td>\n",
       "      <td>0.013596</td>\n",
       "      <td>-0.019443</td>\n",
       "      <td>-0.017029</td>\n",
       "      <td>0.001838</td>\n",
       "      <td>0.003582</td>\n",
       "    </tr>\n",
       "    <tr>\n",
       "      <th>...</th>\n",
       "      <td>...</td>\n",
       "      <td>...</td>\n",
       "      <td>...</td>\n",
       "      <td>...</td>\n",
       "      <td>...</td>\n",
       "      <td>...</td>\n",
       "      <td>...</td>\n",
       "      <td>...</td>\n",
       "      <td>...</td>\n",
       "      <td>...</td>\n",
       "      <td>...</td>\n",
       "      <td>...</td>\n",
       "    </tr>\n",
       "    <tr>\n",
       "      <th>204490</th>\n",
       "      <td>2010-01-13</td>\n",
       "      <td>BNI</td>\n",
       "      <td>BURLINGTON NORTHERN SANTA FE</td>\n",
       "      <td>99.0700</td>\n",
       "      <td>1145.680054</td>\n",
       "      <td>2490_50227</td>\n",
       "      <td>0.001719</td>\n",
       "      <td>0.007510</td>\n",
       "      <td>0.009517</td>\n",
       "      <td>0.005203</td>\n",
       "      <td>0.010287</td>\n",
       "      <td>0.012072</td>\n",
       "    </tr>\n",
       "    <tr>\n",
       "      <th>204491</th>\n",
       "      <td>2010-01-20</td>\n",
       "      <td>BNI</td>\n",
       "      <td>BURLINGTON NORTHERN SANTA FE</td>\n",
       "      <td>99.2300</td>\n",
       "      <td>1138.040039</td>\n",
       "      <td>2490_50227</td>\n",
       "      <td>0.001615</td>\n",
       "      <td>-0.006669</td>\n",
       "      <td>0.007510</td>\n",
       "      <td>0.009517</td>\n",
       "      <td>0.005203</td>\n",
       "      <td>0.010287</td>\n",
       "    </tr>\n",
       "    <tr>\n",
       "      <th>204492</th>\n",
       "      <td>2010-01-27</td>\n",
       "      <td>BNI</td>\n",
       "      <td>BURLINGTON NORTHERN SANTA FE</td>\n",
       "      <td>99.5000</td>\n",
       "      <td>1097.500000</td>\n",
       "      <td>2490_50227</td>\n",
       "      <td>0.002721</td>\n",
       "      <td>-0.035623</td>\n",
       "      <td>-0.006669</td>\n",
       "      <td>0.007510</td>\n",
       "      <td>0.009517</td>\n",
       "      <td>0.005203</td>\n",
       "    </tr>\n",
       "    <tr>\n",
       "      <th>204493</th>\n",
       "      <td>2010-02-03</td>\n",
       "      <td>BNI</td>\n",
       "      <td>BURLINGTON NORTHERN SANTA FE</td>\n",
       "      <td>99.8100</td>\n",
       "      <td>1097.280029</td>\n",
       "      <td>2490_50227</td>\n",
       "      <td>0.003116</td>\n",
       "      <td>-0.000200</td>\n",
       "      <td>-0.035623</td>\n",
       "      <td>-0.006669</td>\n",
       "      <td>0.007510</td>\n",
       "      <td>0.009517</td>\n",
       "    </tr>\n",
       "    <tr>\n",
       "      <th>204494</th>\n",
       "      <td>2010-02-10</td>\n",
       "      <td>BNI</td>\n",
       "      <td>BURLINGTON NORTHERN SANTA FE</td>\n",
       "      <td>99.9600</td>\n",
       "      <td>1068.130005</td>\n",
       "      <td>2490_50227</td>\n",
       "      <td>0.001503</td>\n",
       "      <td>-0.026566</td>\n",
       "      <td>-0.000200</td>\n",
       "      <td>-0.035623</td>\n",
       "      <td>-0.006669</td>\n",
       "      <td>0.007510</td>\n",
       "    </tr>\n",
       "  </tbody>\n",
       "</table>\n",
       "<p>204495 rows × 12 columns</p>\n",
       "</div>"
      ],
      "text/plain": [
       "             Date ticker                  company_name  stock_price  \\\n",
       "0      2000-02-02    AIR                      AAR CORP      18.4375   \n",
       "1      2000-02-09    AIR                      AAR CORP      18.9375   \n",
       "2      2000-02-16    AIR                      AAR CORP      23.1250   \n",
       "3      2000-02-23    AIR                      AAR CORP      23.3125   \n",
       "4      2000-03-01    AIR                      AAR CORP      23.6250   \n",
       "...           ...    ...                           ...          ...   \n",
       "204490 2010-01-13    BNI  BURLINGTON NORTHERN SANTA FE      99.0700   \n",
       "204491 2010-01-20    BNI  BURLINGTON NORTHERN SANTA FE      99.2300   \n",
       "204492 2010-01-27    BNI  BURLINGTON NORTHERN SANTA FE      99.5000   \n",
       "204493 2010-02-03    BNI  BURLINGTON NORTHERN SANTA FE      99.8100   \n",
       "204494 2010-02-10    BNI  BURLINGTON NORTHERN SANTA FE      99.9600   \n",
       "\n",
       "        sp500_price        code  stock_weekly_returns  market_weekly_returns  \\\n",
       "0       1409.119995  1004_54594             -0.006734               0.003582   \n",
       "1       1411.709961  1004_54594              0.027119               0.001838   \n",
       "2       1387.670044  1004_54594              0.221122              -0.017029   \n",
       "3       1360.689941  1004_54594              0.008108              -0.019443   \n",
       "4       1379.189941  1004_54594              0.013405               0.013596   \n",
       "...             ...         ...                   ...                    ...   \n",
       "204490  1145.680054  2490_50227              0.001719               0.007510   \n",
       "204491  1138.040039  2490_50227              0.001615              -0.006669   \n",
       "204492  1097.500000  2490_50227              0.002721              -0.035623   \n",
       "204493  1097.280029  2490_50227              0.003116              -0.000200   \n",
       "204494  1068.130005  2490_50227              0.001503              -0.026566   \n",
       "\n",
       "        market_returns_lag_1  market_returns_lag_2  market_returns_lag_3  \\\n",
       "0                  -0.035586              0.016512              0.021496   \n",
       "1                   0.003582             -0.035586              0.016512   \n",
       "2                   0.001838              0.003582             -0.035586   \n",
       "3                  -0.017029              0.001838              0.003582   \n",
       "4                  -0.019443             -0.017029              0.001838   \n",
       "...                      ...                   ...                   ...   \n",
       "204490              0.009517              0.005203              0.010287   \n",
       "204491              0.007510              0.009517              0.005203   \n",
       "204492             -0.006669              0.007510              0.009517   \n",
       "204493             -0.035623             -0.006669              0.007510   \n",
       "204494             -0.000200             -0.035623             -0.006669   \n",
       "\n",
       "        market_returns_lag_4  \n",
       "0                  -0.036496  \n",
       "1                   0.021496  \n",
       "2                   0.016512  \n",
       "3                  -0.035586  \n",
       "4                   0.003582  \n",
       "...                      ...  \n",
       "204490              0.012072  \n",
       "204491              0.010287  \n",
       "204492              0.005203  \n",
       "204493              0.009517  \n",
       "204494              0.007510  \n",
       "\n",
       "[204495 rows x 12 columns]"
      ]
     },
     "execution_count": 30,
     "metadata": {},
     "output_type": "execute_result"
    }
   ],
   "source": [
    "df_temp.reset_index(drop=False, inplace=True)\n",
    "df_temp"
   ]
  },
  {
   "cell_type": "code",
   "execution_count": 31,
   "metadata": {},
   "outputs": [
    {
     "name": "stdout",
     "output_type": "stream",
     "text": [
      "            code  Year        D1\n",
      "0     1004_54594  2000  0.239582\n",
      "1     1004_54594  2001  0.468888\n",
      "2     1004_54594  2002  0.250754\n",
      "3     1004_54594  2003  0.071133\n",
      "4     1004_54594  2004  0.111248\n",
      "...          ...   ...       ...\n",
      "3856  2490_50227  2005  0.183323\n",
      "3857  2490_50227  2006  0.102063\n",
      "3858  2490_50227  2007  0.013411\n",
      "3859  2490_50227  2008  0.009302\n",
      "3860  2490_50227  2009  0.368531\n",
      "\n",
      "[3861 rows x 3 columns]\n"
     ]
    }
   ],
   "source": [
    "def calculate_annual_delay_measures(df):\n",
    "    results = []\n",
    "\n",
    "    # Assuming df is your DataFrame and 'Date' is in a format that pandas can recognize as a date\n",
    "    df['Date'] = pd.to_datetime(df['Date'])\n",
    "\n",
    "    # Function to adjust the year\n",
    "    def adjust_year(row):\n",
    "        if row.month < 7:  # If month is before July\n",
    "            return row.year - 1  # Consider it as part of the previous year\n",
    "        else:\n",
    "            return row.year\n",
    "\n",
    "    # First group by cryptocurrency\n",
    "    for code, stock_group in df.groupby('code'):\n",
    "        # Convert 'Date' to datetime and apply the year adjustment within each crypto group\n",
    "        stock_group['Date'] = pd.to_datetime(stock_group['Date'])\n",
    "        stock_group['Year'] = stock_group['Date'].apply(adjust_year)\n",
    "\n",
    "        # Now group by year within each crypto group\n",
    "        for year, year_group in stock_group.groupby('Year'):\n",
    "            \n",
    "            # Skip adjusted years with less than 24 weeks\n",
    "            if len(year_group) < 24:\n",
    "                continue\n",
    "            \n",
    "            \n",
    "            # Prepare regression variables\n",
    "            X = sm.add_constant(year_group[['market_weekly_returns', 'market_returns_lag_1', 'market_returns_lag_2', 'market_returns_lag_3', 'market_returns_lag_4']])\n",
    "            y = year_group['stock_weekly_returns']\n",
    "\n",
    "            # Full regression model\n",
    "            full_model = sm.OLS(y, X).fit()\n",
    "            r_squared_full = full_model.rsquared\n",
    "\n",
    "            # Restricted regression model (only contemporaneous market return)\n",
    "            X_restricted = sm.add_constant(year_group[['market_weekly_returns']])\n",
    "            restricted_model = sm.OLS(y, X_restricted).fit()\n",
    "            r_squared_restricted = restricted_model.rsquared\n",
    "\n",
    "            # Calculate D1\n",
    "            D1 = 1 - (r_squared_restricted / r_squared_full)\n",
    "\n",
    "            # Append results for each year and crypto\n",
    "            results.append({'code': code, 'Year': year, 'D1': D1})\n",
    "            \n",
    "    return pd.DataFrame(results)\n",
    "\n",
    "# Usage example\n",
    "annual_delay_measures = calculate_annual_delay_measures(df_temp)\n",
    "print(annual_delay_measures)"
   ]
  },
  {
   "cell_type": "code",
   "execution_count": 32,
   "metadata": {},
   "outputs": [
    {
     "data": {
      "text/html": [
       "<div>\n",
       "<style scoped>\n",
       "    .dataframe tbody tr th:only-of-type {\n",
       "        vertical-align: middle;\n",
       "    }\n",
       "\n",
       "    .dataframe tbody tr th {\n",
       "        vertical-align: top;\n",
       "    }\n",
       "\n",
       "    .dataframe thead th {\n",
       "        text-align: right;\n",
       "    }\n",
       "</style>\n",
       "<table border=\"1\" class=\"dataframe\">\n",
       "  <thead>\n",
       "    <tr style=\"text-align: right;\">\n",
       "      <th></th>\n",
       "      <th>code</th>\n",
       "      <th>Year</th>\n",
       "      <th>D1</th>\n",
       "    </tr>\n",
       "  </thead>\n",
       "  <tbody>\n",
       "    <tr>\n",
       "      <th>0</th>\n",
       "      <td>1004_54594</td>\n",
       "      <td>2000</td>\n",
       "      <td>0.239582</td>\n",
       "    </tr>\n",
       "    <tr>\n",
       "      <th>1</th>\n",
       "      <td>1004_54594</td>\n",
       "      <td>2001</td>\n",
       "      <td>0.468888</td>\n",
       "    </tr>\n",
       "    <tr>\n",
       "      <th>2</th>\n",
       "      <td>1004_54594</td>\n",
       "      <td>2002</td>\n",
       "      <td>0.250754</td>\n",
       "    </tr>\n",
       "    <tr>\n",
       "      <th>3</th>\n",
       "      <td>1004_54594</td>\n",
       "      <td>2003</td>\n",
       "      <td>0.071133</td>\n",
       "    </tr>\n",
       "    <tr>\n",
       "      <th>4</th>\n",
       "      <td>1004_54594</td>\n",
       "      <td>2004</td>\n",
       "      <td>0.111248</td>\n",
       "    </tr>\n",
       "    <tr>\n",
       "      <th>...</th>\n",
       "      <td>...</td>\n",
       "      <td>...</td>\n",
       "      <td>...</td>\n",
       "    </tr>\n",
       "    <tr>\n",
       "      <th>3856</th>\n",
       "      <td>2490_50227</td>\n",
       "      <td>2005</td>\n",
       "      <td>0.183323</td>\n",
       "    </tr>\n",
       "    <tr>\n",
       "      <th>3857</th>\n",
       "      <td>2490_50227</td>\n",
       "      <td>2006</td>\n",
       "      <td>0.102063</td>\n",
       "    </tr>\n",
       "    <tr>\n",
       "      <th>3858</th>\n",
       "      <td>2490_50227</td>\n",
       "      <td>2007</td>\n",
       "      <td>0.013411</td>\n",
       "    </tr>\n",
       "    <tr>\n",
       "      <th>3859</th>\n",
       "      <td>2490_50227</td>\n",
       "      <td>2008</td>\n",
       "      <td>0.009302</td>\n",
       "    </tr>\n",
       "    <tr>\n",
       "      <th>3860</th>\n",
       "      <td>2490_50227</td>\n",
       "      <td>2009</td>\n",
       "      <td>0.368531</td>\n",
       "    </tr>\n",
       "  </tbody>\n",
       "</table>\n",
       "<p>3861 rows × 3 columns</p>\n",
       "</div>"
      ],
      "text/plain": [
       "            code  Year        D1\n",
       "0     1004_54594  2000  0.239582\n",
       "1     1004_54594  2001  0.468888\n",
       "2     1004_54594  2002  0.250754\n",
       "3     1004_54594  2003  0.071133\n",
       "4     1004_54594  2004  0.111248\n",
       "...          ...   ...       ...\n",
       "3856  2490_50227  2005  0.183323\n",
       "3857  2490_50227  2006  0.102063\n",
       "3858  2490_50227  2007  0.013411\n",
       "3859  2490_50227  2008  0.009302\n",
       "3860  2490_50227  2009  0.368531\n",
       "\n",
       "[3861 rows x 3 columns]"
      ]
     },
     "execution_count": 32,
     "metadata": {},
     "output_type": "execute_result"
    }
   ],
   "source": [
    "annual_delay_measures.to_csv('(3)/data_process/(3)annual_delay_measures_1.csv', index=False)\n",
    "annual_delay_measures"
   ]
  },
  {
   "cell_type": "code",
   "execution_count": 8,
   "metadata": {},
   "outputs": [
    {
     "name": "stderr",
     "output_type": "stream",
     "text": [
      "/tmp/ipykernel_3746/1963608357.py:4: DtypeWarning: Columns (11,21,22,23,24,25,26,27,28,45,52,57,60,71,72,81,82) have mixed types. Specify dtype option on import or set low_memory=False.\n",
      "  dfi = pd.read_csv(f'(3)/data_chunks/(3)data_{i}.csv')\n",
      "/tmp/ipykernel_3746/1963608357.py:5: DtypeWarning: Columns (11,13,21,22,23,24,25,26,27,28,45,52,57,60,71,72,80,81,82) have mixed types. Specify dtype option on import or set low_memory=False.\n",
      "  dfj = pd.read_csv(f'(3)/data_chunks/(3)data_{j}.csv')\n",
      "/tmp/ipykernel_3746/1963608357.py:14: FutureWarning: The frame.append method is deprecated and will be removed from pandas in a future version. Use pandas.concat instead.\n",
      "  dfi = dfi.append(matching_rows, ignore_index=True)\n",
      "/tmp/ipykernel_3746/1963608357.py:4: DtypeWarning: Columns (11,13,21,22,23,24,25,26,27,28,45,52,57,59,60,67,71,72,77,78,81,82) have mixed types. Specify dtype option on import or set low_memory=False.\n",
      "  dfi = pd.read_csv(f'(3)/data_chunks/(3)data_{i}.csv')\n",
      "/tmp/ipykernel_3746/1963608357.py:5: DtypeWarning: Columns (11,13,21,22,23,24,25,26,27,28,45,52,57,59,60,67,71,72,78,81,82) have mixed types. Specify dtype option on import or set low_memory=False.\n",
      "  dfj = pd.read_csv(f'(3)/data_chunks/(3)data_{j}.csv')\n",
      "/tmp/ipykernel_3746/1963608357.py:14: FutureWarning: The frame.append method is deprecated and will be removed from pandas in a future version. Use pandas.concat instead.\n",
      "  dfi = dfi.append(matching_rows, ignore_index=True)\n",
      "/tmp/ipykernel_3746/1963608357.py:4: DtypeWarning: Columns (11,13,21,22,23,24,25,26,27,28,45,52,57,59,60,67,71,72,78,81,82) have mixed types. Specify dtype option on import or set low_memory=False.\n",
      "  dfi = pd.read_csv(f'(3)/data_chunks/(3)data_{i}.csv')\n",
      "/tmp/ipykernel_3746/1963608357.py:5: DtypeWarning: Columns (11,13,22,23,24,25,26,27,28,45,52,59,60,67,71,72,77,78,81,82) have mixed types. Specify dtype option on import or set low_memory=False.\n",
      "  dfj = pd.read_csv(f'(3)/data_chunks/(3)data_{j}.csv')\n",
      "/tmp/ipykernel_3746/1963608357.py:14: FutureWarning: The frame.append method is deprecated and will be removed from pandas in a future version. Use pandas.concat instead.\n",
      "  dfi = dfi.append(matching_rows, ignore_index=True)\n",
      "/tmp/ipykernel_3746/1963608357.py:4: DtypeWarning: Columns (11,13,22,23,24,25,26,27,28,45,52,59,60,67,71,72,77,78,81,82) have mixed types. Specify dtype option on import or set low_memory=False.\n",
      "  dfi = pd.read_csv(f'(3)/data_chunks/(3)data_{i}.csv')\n",
      "/tmp/ipykernel_3746/1963608357.py:5: DtypeWarning: Columns (11,18,21,22,23,24,25,26,27,28,45,52,59,60,67,71,72,77,80,81,82) have mixed types. Specify dtype option on import or set low_memory=False.\n",
      "  dfj = pd.read_csv(f'(3)/data_chunks/(3)data_{j}.csv')\n",
      "/tmp/ipykernel_3746/1963608357.py:14: FutureWarning: The frame.append method is deprecated and will be removed from pandas in a future version. Use pandas.concat instead.\n",
      "  dfi = dfi.append(matching_rows, ignore_index=True)\n",
      "/tmp/ipykernel_3746/1963608357.py:4: DtypeWarning: Columns (11,13,18,21,22,23,24,25,26,27,28,45,52,59,60,71,72,77,80,81,82) have mixed types. Specify dtype option on import or set low_memory=False.\n",
      "  dfi = pd.read_csv(f'(3)/data_chunks/(3)data_{i}.csv')\n",
      "/tmp/ipykernel_3746/1963608357.py:5: DtypeWarning: Columns (11,21,22,23,24,25,26,27,28,45,49,50,52,57,59,60,67,71,72,77,78,81,82) have mixed types. Specify dtype option on import or set low_memory=False.\n",
      "  dfj = pd.read_csv(f'(3)/data_chunks/(3)data_{j}.csv')\n",
      "/tmp/ipykernel_3746/1963608357.py:14: FutureWarning: The frame.append method is deprecated and will be removed from pandas in a future version. Use pandas.concat instead.\n",
      "  dfi = dfi.append(matching_rows, ignore_index=True)\n",
      "/tmp/ipykernel_3746/1963608357.py:4: DtypeWarning: Columns (11,21,22,23,24,25,26,27,28,45,49,50,52,57,59,60,67,71,72,77,78,81,82) have mixed types. Specify dtype option on import or set low_memory=False.\n",
      "  dfi = pd.read_csv(f'(3)/data_chunks/(3)data_{i}.csv')\n",
      "/tmp/ipykernel_3746/1963608357.py:5: DtypeWarning: Columns (11,13,18,21,22,23,24,25,26,27,28,45,49,50,52,57,59,60,71,72,77,81,82) have mixed types. Specify dtype option on import or set low_memory=False.\n",
      "  dfj = pd.read_csv(f'(3)/data_chunks/(3)data_{j}.csv')\n",
      "/tmp/ipykernel_3746/1963608357.py:14: FutureWarning: The frame.append method is deprecated and will be removed from pandas in a future version. Use pandas.concat instead.\n",
      "  dfi = dfi.append(matching_rows, ignore_index=True)\n",
      "/tmp/ipykernel_3746/1963608357.py:4: DtypeWarning: Columns (11,13,18,21,22,23,24,25,26,27,28,45,49,50,52,57,59,60,71,72,77,81,82) have mixed types. Specify dtype option on import or set low_memory=False.\n",
      "  dfi = pd.read_csv(f'(3)/data_chunks/(3)data_{i}.csv')\n",
      "/tmp/ipykernel_3746/1963608357.py:5: DtypeWarning: Columns (11,13,18,21,22,23,24,25,26,27,28,45,49,50,52,57,59,60,71,72,77,81,82) have mixed types. Specify dtype option on import or set low_memory=False.\n",
      "  dfj = pd.read_csv(f'(3)/data_chunks/(3)data_{j}.csv')\n",
      "/tmp/ipykernel_3746/1963608357.py:14: FutureWarning: The frame.append method is deprecated and will be removed from pandas in a future version. Use pandas.concat instead.\n",
      "  dfi = dfi.append(matching_rows, ignore_index=True)\n",
      "/tmp/ipykernel_3746/1963608357.py:4: DtypeWarning: Columns (11,13,18,21,22,23,24,25,26,27,28,45,49,50,52,57,60,71,72,77,81,82) have mixed types. Specify dtype option on import or set low_memory=False.\n",
      "  dfi = pd.read_csv(f'(3)/data_chunks/(3)data_{i}.csv')\n",
      "/tmp/ipykernel_3746/1963608357.py:5: DtypeWarning: Columns (11,13,18,21,22,23,24,25,26,27,28,45,52,60,71,72,77,81,82) have mixed types. Specify dtype option on import or set low_memory=False.\n",
      "  dfj = pd.read_csv(f'(3)/data_chunks/(3)data_{j}.csv')\n",
      "/tmp/ipykernel_3746/1963608357.py:14: FutureWarning: The frame.append method is deprecated and will be removed from pandas in a future version. Use pandas.concat instead.\n",
      "  dfi = dfi.append(matching_rows, ignore_index=True)\n",
      "/tmp/ipykernel_3746/1963608357.py:4: DtypeWarning: Columns (11,13,18,21,22,23,24,25,26,27,28,45,52,60,71,72,77,81,82) have mixed types. Specify dtype option on import or set low_memory=False.\n",
      "  dfi = pd.read_csv(f'(3)/data_chunks/(3)data_{i}.csv')\n",
      "/tmp/ipykernel_3746/1963608357.py:5: DtypeWarning: Columns (11,13,18,21,22,23,24,25,26,27,28,45,52,57,59,60,71,72,77,80,81,82) have mixed types. Specify dtype option on import or set low_memory=False.\n",
      "  dfj = pd.read_csv(f'(3)/data_chunks/(3)data_{j}.csv')\n",
      "/tmp/ipykernel_3746/1963608357.py:14: FutureWarning: The frame.append method is deprecated and will be removed from pandas in a future version. Use pandas.concat instead.\n",
      "  dfi = dfi.append(matching_rows, ignore_index=True)\n",
      "/tmp/ipykernel_3746/1963608357.py:4: DtypeWarning: Columns (11,13,18,21,22,23,24,25,26,27,28,45,52,57,59,60,71,72,77,81,82) have mixed types. Specify dtype option on import or set low_memory=False.\n",
      "  dfi = pd.read_csv(f'(3)/data_chunks/(3)data_{i}.csv')\n",
      "/tmp/ipykernel_3746/1963608357.py:5: DtypeWarning: Columns (11,13,18,21,22,23,24,25,26,27,28,45,49,52,59,60,71,72,77,80,81,82) have mixed types. Specify dtype option on import or set low_memory=False.\n",
      "  dfj = pd.read_csv(f'(3)/data_chunks/(3)data_{j}.csv')\n",
      "/tmp/ipykernel_3746/1963608357.py:14: FutureWarning: The frame.append method is deprecated and will be removed from pandas in a future version. Use pandas.concat instead.\n",
      "  dfi = dfi.append(matching_rows, ignore_index=True)\n",
      "/tmp/ipykernel_3746/1963608357.py:4: DtypeWarning: Columns (11,13,18,21,22,23,24,25,26,27,28,45,49,52,59,60,71,72,77,80,81,82) have mixed types. Specify dtype option on import or set low_memory=False.\n",
      "  dfi = pd.read_csv(f'(3)/data_chunks/(3)data_{i}.csv')\n",
      "/tmp/ipykernel_3746/1963608357.py:5: DtypeWarning: Columns (11,13,18,21,22,23,24,25,26,27,28,45,52,57,59,60,67,71,72,77,78,80,81,82) have mixed types. Specify dtype option on import or set low_memory=False.\n",
      "  dfj = pd.read_csv(f'(3)/data_chunks/(3)data_{j}.csv')\n",
      "/tmp/ipykernel_3746/1963608357.py:14: FutureWarning: The frame.append method is deprecated and will be removed from pandas in a future version. Use pandas.concat instead.\n",
      "  dfi = dfi.append(matching_rows, ignore_index=True)\n",
      "/tmp/ipykernel_3746/1963608357.py:4: DtypeWarning: Columns (11,13,18,21,22,23,24,25,26,27,28,45,52,57,59,60,67,71,72,77,78,81,82) have mixed types. Specify dtype option on import or set low_memory=False.\n",
      "  dfi = pd.read_csv(f'(3)/data_chunks/(3)data_{i}.csv')\n",
      "/tmp/ipykernel_3746/1963608357.py:5: DtypeWarning: Columns (11,13,18,21,22,23,24,25,26,27,28,45,52,57,59,60,67,71,72,77,81,82) have mixed types. Specify dtype option on import or set low_memory=False.\n",
      "  dfj = pd.read_csv(f'(3)/data_chunks/(3)data_{j}.csv')\n",
      "/tmp/ipykernel_3746/1963608357.py:14: FutureWarning: The frame.append method is deprecated and will be removed from pandas in a future version. Use pandas.concat instead.\n",
      "  dfi = dfi.append(matching_rows, ignore_index=True)\n",
      "/tmp/ipykernel_3746/1963608357.py:4: DtypeWarning: Columns (11,13,18,21,22,23,24,25,26,27,28,45,52,57,59,60,67,71,72,77,78,80,81,82) have mixed types. Specify dtype option on import or set low_memory=False.\n",
      "  dfi = pd.read_csv(f'(3)/data_chunks/(3)data_{i}.csv')\n",
      "/tmp/ipykernel_3746/1963608357.py:5: DtypeWarning: Columns (11,13,18,21,22,23,24,25,26,27,28,45,49,52,57,59,60,71,72,77,81,82) have mixed types. Specify dtype option on import or set low_memory=False.\n",
      "  dfj = pd.read_csv(f'(3)/data_chunks/(3)data_{j}.csv')\n",
      "/tmp/ipykernel_3746/1963608357.py:14: FutureWarning: The frame.append method is deprecated and will be removed from pandas in a future version. Use pandas.concat instead.\n",
      "  dfi = dfi.append(matching_rows, ignore_index=True)\n",
      "/tmp/ipykernel_3746/1963608357.py:4: DtypeWarning: Columns (11,18,21,22,23,24,25,26,27,28,45,49,52,57,59,60,67,71,72,77,81,82) have mixed types. Specify dtype option on import or set low_memory=False.\n",
      "  dfi = pd.read_csv(f'(3)/data_chunks/(3)data_{i}.csv')\n",
      "/tmp/ipykernel_3746/1963608357.py:5: DtypeWarning: Columns (11,13,18,21,22,23,24,25,26,27,28,45,49,52,57,59,60,67,71,72,77,78,81,82) have mixed types. Specify dtype option on import or set low_memory=False.\n",
      "  dfj = pd.read_csv(f'(3)/data_chunks/(3)data_{j}.csv')\n",
      "/tmp/ipykernel_3746/1963608357.py:14: FutureWarning: The frame.append method is deprecated and will be removed from pandas in a future version. Use pandas.concat instead.\n",
      "  dfi = dfi.append(matching_rows, ignore_index=True)\n",
      "/tmp/ipykernel_3746/1963608357.py:4: DtypeWarning: Columns (11,13,18,21,22,23,24,25,26,27,28,45,49,52,57,59,60,67,71,72,77,78,81,82) have mixed types. Specify dtype option on import or set low_memory=False.\n",
      "  dfi = pd.read_csv(f'(3)/data_chunks/(3)data_{i}.csv')\n",
      "/tmp/ipykernel_3746/1963608357.py:5: DtypeWarning: Columns (11,13,18,21,22,23,24,25,26,27,28,45,52,57,59,60,67,71,72,77,78,81,82) have mixed types. Specify dtype option on import or set low_memory=False.\n",
      "  dfj = pd.read_csv(f'(3)/data_chunks/(3)data_{j}.csv')\n",
      "/tmp/ipykernel_3746/1963608357.py:14: FutureWarning: The frame.append method is deprecated and will be removed from pandas in a future version. Use pandas.concat instead.\n",
      "  dfi = dfi.append(matching_rows, ignore_index=True)\n",
      "/tmp/ipykernel_3746/1963608357.py:4: DtypeWarning: Columns (11,13,18,21,22,23,24,25,26,27,28,45,52,57,59,60,67,71,72,77,78,81,82) have mixed types. Specify dtype option on import or set low_memory=False.\n",
      "  dfi = pd.read_csv(f'(3)/data_chunks/(3)data_{i}.csv')\n",
      "/tmp/ipykernel_3746/1963608357.py:5: DtypeWarning: Columns (13,22,23,24,25,26,27,28,45,52,60,71,72,81) have mixed types. Specify dtype option on import or set low_memory=False.\n",
      "  dfj = pd.read_csv(f'(3)/data_chunks/(3)data_{j}.csv')\n",
      "/tmp/ipykernel_3746/1963608357.py:14: FutureWarning: The frame.append method is deprecated and will be removed from pandas in a future version. Use pandas.concat instead.\n",
      "  dfi = dfi.append(matching_rows, ignore_index=True)\n",
      "/tmp/ipykernel_3746/1963608357.py:4: DtypeWarning: Columns (13,22,23,24,25,26,27,28,45,52,60,71,72,81) have mixed types. Specify dtype option on import or set low_memory=False.\n",
      "  dfi = pd.read_csv(f'(3)/data_chunks/(3)data_{i}.csv')\n",
      "/tmp/ipykernel_3746/1963608357.py:5: DtypeWarning: Columns (11,13,21,22,23,24,25,26,27,28,45,49,52,60,71,72,77,80,81) have mixed types. Specify dtype option on import or set low_memory=False.\n",
      "  dfj = pd.read_csv(f'(3)/data_chunks/(3)data_{j}.csv')\n",
      "/tmp/ipykernel_3746/1963608357.py:14: FutureWarning: The frame.append method is deprecated and will be removed from pandas in a future version. Use pandas.concat instead.\n",
      "  dfi = dfi.append(matching_rows, ignore_index=True)\n",
      "/tmp/ipykernel_3746/1963608357.py:4: DtypeWarning: Columns (11,13,21,22,23,24,25,26,27,28,45,49,52,60,71,72,77,80,81) have mixed types. Specify dtype option on import or set low_memory=False.\n",
      "  dfi = pd.read_csv(f'(3)/data_chunks/(3)data_{i}.csv')\n",
      "/tmp/ipykernel_3746/1963608357.py:5: DtypeWarning: Columns (11,13,21,22,23,24,25,26,27,28,45,49,52,57,60,67,71,72,77,78,81,82) have mixed types. Specify dtype option on import or set low_memory=False.\n",
      "  dfj = pd.read_csv(f'(3)/data_chunks/(3)data_{j}.csv')\n",
      "/tmp/ipykernel_3746/1963608357.py:14: FutureWarning: The frame.append method is deprecated and will be removed from pandas in a future version. Use pandas.concat instead.\n",
      "  dfi = dfi.append(matching_rows, ignore_index=True)\n",
      "/tmp/ipykernel_3746/1963608357.py:4: DtypeWarning: Columns (11,13,21,22,23,24,25,26,27,28,45,49,52,57,60,71,72,81) have mixed types. Specify dtype option on import or set low_memory=False.\n",
      "  dfi = pd.read_csv(f'(3)/data_chunks/(3)data_{i}.csv')\n",
      "/tmp/ipykernel_3746/1963608357.py:5: DtypeWarning: Columns (11,13,21,22,23,24,25,26,27,28,45,49,50,52,57,60,71,72,81) have mixed types. Specify dtype option on import or set low_memory=False.\n",
      "  dfj = pd.read_csv(f'(3)/data_chunks/(3)data_{j}.csv')\n",
      "/tmp/ipykernel_3746/1963608357.py:14: FutureWarning: The frame.append method is deprecated and will be removed from pandas in a future version. Use pandas.concat instead.\n",
      "  dfi = dfi.append(matching_rows, ignore_index=True)\n",
      "/tmp/ipykernel_3746/1963608357.py:4: DtypeWarning: Columns (11,13,21,22,23,24,25,26,27,28,45,49,50,52,57,59,60,67,71,72,78,81) have mixed types. Specify dtype option on import or set low_memory=False.\n",
      "  dfi = pd.read_csv(f'(3)/data_chunks/(3)data_{i}.csv')\n",
      "/tmp/ipykernel_3746/1963608357.py:5: DtypeWarning: Columns (11,13,18,21,22,23,24,25,26,27,28,45,49,52,57,59,60,67,71,72,77,78,81) have mixed types. Specify dtype option on import or set low_memory=False.\n",
      "  dfj = pd.read_csv(f'(3)/data_chunks/(3)data_{j}.csv')\n",
      "/tmp/ipykernel_3746/1963608357.py:14: FutureWarning: The frame.append method is deprecated and will be removed from pandas in a future version. Use pandas.concat instead.\n",
      "  dfi = dfi.append(matching_rows, ignore_index=True)\n",
      "/tmp/ipykernel_3746/1963608357.py:4: DtypeWarning: Columns (11,13,18,21,22,23,24,25,26,27,28,45,49,52,57,59,60,67,71,72,77,78,81) have mixed types. Specify dtype option on import or set low_memory=False.\n",
      "  dfi = pd.read_csv(f'(3)/data_chunks/(3)data_{i}.csv')\n",
      "/tmp/ipykernel_3746/1963608357.py:5: DtypeWarning: Columns (11,13,21,22,23,24,25,26,27,28,45,49,50,52,57,59,60,67,71,72,77,78,80,81,82) have mixed types. Specify dtype option on import or set low_memory=False.\n",
      "  dfj = pd.read_csv(f'(3)/data_chunks/(3)data_{j}.csv')\n",
      "/tmp/ipykernel_3746/1963608357.py:14: FutureWarning: The frame.append method is deprecated and will be removed from pandas in a future version. Use pandas.concat instead.\n",
      "  dfi = dfi.append(matching_rows, ignore_index=True)\n",
      "/tmp/ipykernel_3746/1963608357.py:4: DtypeWarning: Columns (11,13,21,22,23,24,25,26,27,28,45,49,50,52,57,59,60,67,71,72,77,78,81,82) have mixed types. Specify dtype option on import or set low_memory=False.\n",
      "  dfi = pd.read_csv(f'(3)/data_chunks/(3)data_{i}.csv')\n",
      "/tmp/ipykernel_3746/1963608357.py:5: DtypeWarning: Columns (11,13,18,21,22,23,24,25,26,27,28,45,49,52,57,60,67,71,72,77,78,80,81,82) have mixed types. Specify dtype option on import or set low_memory=False.\n",
      "  dfj = pd.read_csv(f'(3)/data_chunks/(3)data_{j}.csv')\n",
      "/tmp/ipykernel_3746/1963608357.py:14: FutureWarning: The frame.append method is deprecated and will be removed from pandas in a future version. Use pandas.concat instead.\n",
      "  dfi = dfi.append(matching_rows, ignore_index=True)\n",
      "/tmp/ipykernel_3746/1963608357.py:4: DtypeWarning: Columns (11,13,18,21,22,23,24,25,26,27,28,45,49,52,57,60,67,71,72,77,81,82) have mixed types. Specify dtype option on import or set low_memory=False.\n",
      "  dfi = pd.read_csv(f'(3)/data_chunks/(3)data_{i}.csv')\n",
      "/tmp/ipykernel_3746/1963608357.py:5: DtypeWarning: Columns (11,13,18,21,22,23,24,25,26,27,28,45,49,52,57,59,60,71,72,77,80,81) have mixed types. Specify dtype option on import or set low_memory=False.\n",
      "  dfj = pd.read_csv(f'(3)/data_chunks/(3)data_{j}.csv')\n",
      "/tmp/ipykernel_3746/1963608357.py:14: FutureWarning: The frame.append method is deprecated and will be removed from pandas in a future version. Use pandas.concat instead.\n",
      "  dfi = dfi.append(matching_rows, ignore_index=True)\n",
      "/tmp/ipykernel_3746/1963608357.py:4: DtypeWarning: Columns (11,13,18,21,22,23,24,25,26,27,28,45,49,52,57,59,60,71,72,77,80,81) have mixed types. Specify dtype option on import or set low_memory=False.\n",
      "  dfi = pd.read_csv(f'(3)/data_chunks/(3)data_{i}.csv')\n",
      "/tmp/ipykernel_3746/1963608357.py:5: DtypeWarning: Columns (11,13,21,22,23,24,25,26,27,28,45,49,52,57,59,60,67,71,72,77,81) have mixed types. Specify dtype option on import or set low_memory=False.\n",
      "  dfj = pd.read_csv(f'(3)/data_chunks/(3)data_{j}.csv')\n",
      "/tmp/ipykernel_3746/1963608357.py:14: FutureWarning: The frame.append method is deprecated and will be removed from pandas in a future version. Use pandas.concat instead.\n",
      "  dfi = dfi.append(matching_rows, ignore_index=True)\n",
      "/tmp/ipykernel_3746/1963608357.py:4: DtypeWarning: Columns (11,13,21,22,23,24,25,26,27,28,45,49,52,57,59,60,67,71,72,77,81) have mixed types. Specify dtype option on import or set low_memory=False.\n",
      "  dfi = pd.read_csv(f'(3)/data_chunks/(3)data_{i}.csv')\n",
      "/tmp/ipykernel_3746/1963608357.py:5: DtypeWarning: Columns (11,13,18,21,22,23,24,25,26,27,28,45,49,52,57,59,60,67,71,72,77,78,80,81,82) have mixed types. Specify dtype option on import or set low_memory=False.\n",
      "  dfj = pd.read_csv(f'(3)/data_chunks/(3)data_{j}.csv')\n",
      "/tmp/ipykernel_3746/1963608357.py:14: FutureWarning: The frame.append method is deprecated and will be removed from pandas in a future version. Use pandas.concat instead.\n",
      "  dfi = dfi.append(matching_rows, ignore_index=True)\n",
      "/tmp/ipykernel_3746/1963608357.py:4: DtypeWarning: Columns (11,13,18,21,22,23,24,25,26,27,28,45,49,52,57,59,60,67,71,72,77,80,81,82) have mixed types. Specify dtype option on import or set low_memory=False.\n",
      "  dfi = pd.read_csv(f'(3)/data_chunks/(3)data_{i}.csv')\n",
      "/tmp/ipykernel_3746/1963608357.py:5: DtypeWarning: Columns (11,13,18,21,22,23,24,25,26,27,28,45,49,52,59,60,71,72,77,80,81,82) have mixed types. Specify dtype option on import or set low_memory=False.\n",
      "  dfj = pd.read_csv(f'(3)/data_chunks/(3)data_{j}.csv')\n",
      "/tmp/ipykernel_3746/1963608357.py:14: FutureWarning: The frame.append method is deprecated and will be removed from pandas in a future version. Use pandas.concat instead.\n",
      "  dfi = dfi.append(matching_rows, ignore_index=True)\n",
      "/tmp/ipykernel_3746/1963608357.py:4: DtypeWarning: Columns (11,13,18,21,22,23,24,25,26,27,28,45,49,52,59,60,71,72,77,80,81,82) have mixed types. Specify dtype option on import or set low_memory=False.\n",
      "  dfi = pd.read_csv(f'(3)/data_chunks/(3)data_{i}.csv')\n",
      "/tmp/ipykernel_3746/1963608357.py:5: DtypeWarning: Columns (11,13,18,21,22,23,24,25,26,27,28,45,52,59,60,71,72,77,78,80,81,82) have mixed types. Specify dtype option on import or set low_memory=False.\n",
      "  dfj = pd.read_csv(f'(3)/data_chunks/(3)data_{j}.csv')\n",
      "/tmp/ipykernel_3746/1963608357.py:14: FutureWarning: The frame.append method is deprecated and will be removed from pandas in a future version. Use pandas.concat instead.\n",
      "  dfi = dfi.append(matching_rows, ignore_index=True)\n",
      "/tmp/ipykernel_3746/1963608357.py:4: DtypeWarning: Columns (11,13,18,21,22,23,24,25,26,27,28,45,52,59,60,71,72,77,78,80,81,82) have mixed types. Specify dtype option on import or set low_memory=False.\n",
      "  dfi = pd.read_csv(f'(3)/data_chunks/(3)data_{i}.csv')\n",
      "/tmp/ipykernel_3746/1963608357.py:5: DtypeWarning: Columns (11,13,21,22,23,24,25,26,27,28,45,52,57,59,60,67,71,72,77,78,81,82) have mixed types. Specify dtype option on import or set low_memory=False.\n",
      "  dfj = pd.read_csv(f'(3)/data_chunks/(3)data_{j}.csv')\n",
      "/tmp/ipykernel_3746/1963608357.py:14: FutureWarning: The frame.append method is deprecated and will be removed from pandas in a future version. Use pandas.concat instead.\n",
      "  dfi = dfi.append(matching_rows, ignore_index=True)\n",
      "/tmp/ipykernel_3746/1963608357.py:4: DtypeWarning: Columns (11,13,21,22,23,24,25,26,27,28,45,52,57,59,60,67,71,72,77,78,81,82) have mixed types. Specify dtype option on import or set low_memory=False.\n",
      "  dfi = pd.read_csv(f'(3)/data_chunks/(3)data_{i}.csv')\n",
      "/tmp/ipykernel_3746/1963608357.py:5: DtypeWarning: Columns (11,13,18,21,22,23,24,25,26,27,28,45,49,52,59,60,71,72,77,81,82) have mixed types. Specify dtype option on import or set low_memory=False.\n",
      "  dfj = pd.read_csv(f'(3)/data_chunks/(3)data_{j}.csv')\n",
      "/tmp/ipykernel_3746/1963608357.py:14: FutureWarning: The frame.append method is deprecated and will be removed from pandas in a future version. Use pandas.concat instead.\n",
      "  dfi = dfi.append(matching_rows, ignore_index=True)\n",
      "/tmp/ipykernel_3746/1963608357.py:4: DtypeWarning: Columns (11,13,18,21,22,23,24,25,26,27,28,45,49,52,59,60,71,72,77,81,82) have mixed types. Specify dtype option on import or set low_memory=False.\n",
      "  dfi = pd.read_csv(f'(3)/data_chunks/(3)data_{i}.csv')\n",
      "/tmp/ipykernel_3746/1963608357.py:5: DtypeWarning: Columns (11,13,21,22,23,24,25,26,27,28,45,49,52,59,60,71,72,77,78,81,82) have mixed types. Specify dtype option on import or set low_memory=False.\n",
      "  dfj = pd.read_csv(f'(3)/data_chunks/(3)data_{j}.csv')\n",
      "/tmp/ipykernel_3746/1963608357.py:14: FutureWarning: The frame.append method is deprecated and will be removed from pandas in a future version. Use pandas.concat instead.\n",
      "  dfi = dfi.append(matching_rows, ignore_index=True)\n",
      "/tmp/ipykernel_3746/1963608357.py:4: DtypeWarning: Columns (11,13,21,22,23,24,25,26,27,28,45,49,52,59,60,71,72,77,81) have mixed types. Specify dtype option on import or set low_memory=False.\n",
      "  dfi = pd.read_csv(f'(3)/data_chunks/(3)data_{i}.csv')\n",
      "/tmp/ipykernel_3746/1963608357.py:5: DtypeWarning: Columns (11,13,21,22,23,24,25,26,27,28,45,49,50,51,52,57,60,71,72,77,81,82) have mixed types. Specify dtype option on import or set low_memory=False.\n",
      "  dfj = pd.read_csv(f'(3)/data_chunks/(3)data_{j}.csv')\n",
      "/tmp/ipykernel_3746/1963608357.py:14: FutureWarning: The frame.append method is deprecated and will be removed from pandas in a future version. Use pandas.concat instead.\n",
      "  dfi = dfi.append(matching_rows, ignore_index=True)\n",
      "/tmp/ipykernel_3746/1963608357.py:4: DtypeWarning: Columns (11,13,21,22,23,24,25,26,27,28,45,49,50,51,52,57,60,71,72,77,81,82) have mixed types. Specify dtype option on import or set low_memory=False.\n",
      "  dfi = pd.read_csv(f'(3)/data_chunks/(3)data_{i}.csv')\n",
      "/tmp/ipykernel_3746/1963608357.py:5: DtypeWarning: Columns (13,21,22,23,24,25,26,27,28,45,49,50,51,52,59,60,71,72,77,81,82) have mixed types. Specify dtype option on import or set low_memory=False.\n",
      "  dfj = pd.read_csv(f'(3)/data_chunks/(3)data_{j}.csv')\n",
      "/tmp/ipykernel_3746/1963608357.py:14: FutureWarning: The frame.append method is deprecated and will be removed from pandas in a future version. Use pandas.concat instead.\n",
      "  dfi = dfi.append(matching_rows, ignore_index=True)\n",
      "/tmp/ipykernel_3746/1963608357.py:4: DtypeWarning: Columns (13,21,22,23,24,25,26,27,28,45,49,50,51,52,59,60,71,72,77,81,82) have mixed types. Specify dtype option on import or set low_memory=False.\n",
      "  dfi = pd.read_csv(f'(3)/data_chunks/(3)data_{i}.csv')\n",
      "/tmp/ipykernel_3746/1963608357.py:5: DtypeWarning: Columns (11,13,18,21,22,23,24,25,26,27,28,45,49,50,52,59,60,67,71,72,77,78,81,82) have mixed types. Specify dtype option on import or set low_memory=False.\n",
      "  dfj = pd.read_csv(f'(3)/data_chunks/(3)data_{j}.csv')\n",
      "/tmp/ipykernel_3746/1963608357.py:14: FutureWarning: The frame.append method is deprecated and will be removed from pandas in a future version. Use pandas.concat instead.\n",
      "  dfi = dfi.append(matching_rows, ignore_index=True)\n",
      "/tmp/ipykernel_3746/1963608357.py:4: DtypeWarning: Columns (11,13,18,21,22,23,24,25,26,27,28,45,49,50,52,59,60,67,71,72,77,78,81,82) have mixed types. Specify dtype option on import or set low_memory=False.\n",
      "  dfi = pd.read_csv(f'(3)/data_chunks/(3)data_{i}.csv')\n",
      "/tmp/ipykernel_3746/1963608357.py:5: DtypeWarning: Columns (13,21,22,24,25,26,27,28,60,67,71,77,81) have mixed types. Specify dtype option on import or set low_memory=False.\n",
      "  dfj = pd.read_csv(f'(3)/data_chunks/(3)data_{j}.csv')\n",
      "/tmp/ipykernel_3746/1963608357.py:14: FutureWarning: The frame.append method is deprecated and will be removed from pandas in a future version. Use pandas.concat instead.\n",
      "  dfi = dfi.append(matching_rows, ignore_index=True)\n"
     ]
    }
   ],
   "source": [
    "for i in range(4, 38):\n",
    "    j = i + 1\n",
    "\n",
    "    dfi = pd.read_csv(f'(3)/data_chunks/(3)data_{i}.csv')\n",
    "    dfj = pd.read_csv(f'(3)/data_chunks/(3)data_{j}.csv')\n",
    "\n",
    "    # read the element in the first column of the last row\n",
    "    last_gvkey = dfi.iloc[-1, 0]\n",
    "\n",
    "    # filter the rows in dfj where the first column matches last_gvkey\n",
    "    matching_rows = dfj[dfj.iloc[:, 0] == last_gvkey]\n",
    "\n",
    "    # append the matching rows to dfi\n",
    "    dfi = dfi.append(matching_rows, ignore_index=True)\n",
    "\n",
    "    # remove the matching rows from dfj\n",
    "    dfj = dfj[dfj.iloc[:, 0] != last_gvkey]\n",
    "\n",
    "    # save the updated dfi back to the csv file\n",
    "    dfi.to_csv(f'(3)/data_chunks/(3)data_{i}.csv', index=False)\n",
    "\n",
    "    # save the updated dfj back to the csv file\n",
    "    dfj.to_csv(f'(3)/data_chunks/(3)data_{j}.csv', index=False)\n",
    "\n"
   ]
  },
  {
   "cell_type": "code",
   "execution_count": 7,
   "metadata": {},
   "outputs": [
    {
     "name": "stderr",
     "output_type": "stream",
     "text": [
      "/tmp/ipykernel_3746/2366406816.py:1: DtypeWarning: Columns (11,13,22,23,24,25,26,27,28,45,49,52,59,60,67,71,72,77,78,81,82) have mixed types. Specify dtype option on import or set low_memory=False.\n",
      "  dfi = pd.read_csv('(3)/data_chunks/(3)data_3.csv')\n",
      "/tmp/ipykernel_3746/2366406816.py:2: DtypeWarning: Columns (11,21,22,23,24,25,26,27,28,45,52,57,60,71,72,81,82) have mixed types. Specify dtype option on import or set low_memory=False.\n",
      "  dfj = pd.read_csv('(3)/data_chunks/(3)data_4.csv')\n"
     ]
    },
    {
     "name": "stdout",
     "output_type": "stream",
     "text": [
      "         GVKEY LINKPRIM  LIID LINKTYPE  LPERMNO  LPERMCO      LINKDT  \\\n",
      "1000295   7114        P    90       LC    53727    21167  1971-12-13   \n",
      "1000296   7114        P    90       LC    53727    21167  1971-12-13   \n",
      "1000297   7114        P    90       LC    53727    21167  1971-12-13   \n",
      "1000298   7114        P    90       LC    53727    21167  1971-12-13   \n",
      "1000299   7114        P    90       LC    53727    21167  1971-12-13   \n",
      "\n",
      "          LINKENDDT  iid    datadate  ... priusa   sic spcindcd spcseccd  \\\n",
      "1000295  2013-04-19   90  2004-02-05  ...     90  3600    220.0    925.0   \n",
      "1000296  2013-04-19   90  2004-02-13  ...     90  3600    220.0    925.0   \n",
      "1000297  2013-04-19   90  2003-02-26  ...     90  3600    220.0    925.0   \n",
      "1000298  2013-04-19   90  2004-02-03  ...     90  3600    220.0    925.0   \n",
      "1000299  2013-04-19   90  2003-02-25  ...     90  3600    220.0    925.0   \n",
      "\n",
      "         spcsrc  state  stko              weburl  dldte     ipodate  \n",
      "1000295     NaN    NaN   3.0  holdings.panasonic    NaN  1949-05-01  \n",
      "1000296     NaN    NaN   3.0  holdings.panasonic    NaN  1949-05-01  \n",
      "1000297     NaN    NaN   3.0  holdings.panasonic    NaN  1949-05-01  \n",
      "1000298     NaN    NaN   3.0  holdings.panasonic    NaN  1949-05-01  \n",
      "1000299     NaN    NaN   3.0  holdings.panasonic    NaN  1949-05-01  \n",
      "\n",
      "[5 rows x 83 columns]\n",
      "   GVKEY LINKPRIM  LIID LINKTYPE  LPERMNO  LPERMCO      LINKDT LINKENDDT  iid  \\\n",
      "0   7116        C     1       LU    39538    21168  1963-08-12         E    1   \n",
      "1   7116        C     1       LU    39538    21168  1963-08-12         E    1   \n",
      "2   7116        C     1       LU    39538    21168  1963-08-12         E    1   \n",
      "3   7116        C     1       LU    39538    21168  1963-08-12         E    1   \n",
      "4   7116        C     1       LU    39538    21168  1963-08-12         E    1   \n",
      "\n",
      "     datadate  ... priusa   sic spcindcd spcseccd  spcsrc  state  stko  \\\n",
      "0  2015-11-09  ...      1  3942    475.0    976.0       C     CA   0.0   \n",
      "1  2015-11-06  ...      1  3942    475.0    976.0       C     CA   0.0   \n",
      "2  2015-11-05  ...      1  3942    475.0    976.0       C     CA   0.0   \n",
      "3  2015-11-03  ...      1  3942    475.0    976.0       C     CA   0.0   \n",
      "4  2015-11-02  ...      1  3942    475.0    976.0       C     CA   0.0   \n",
      "\n",
      "           weburl  dldte  ipodate  \n",
      "0  www.mattel.com    NaN      NaN  \n",
      "1  www.mattel.com    NaN      NaN  \n",
      "2  www.mattel.com    NaN      NaN  \n",
      "3  www.mattel.com    NaN      NaN  \n",
      "4  www.mattel.com    NaN      NaN  \n",
      "\n",
      "[5 rows x 83 columns]\n"
     ]
    }
   ],
   "source": [
    "dfi = pd.read_csv('(3)/data_chunks/(3)data_3.csv')\n",
    "dfj = pd.read_csv('(3)/data_chunks/(3)data_4.csv')\n",
    "\n",
    "print(dfi.tail())\n",
    "\n",
    "print(dfj.head())"
   ]
  },
  {
   "cell_type": "code",
   "execution_count": 3,
   "metadata": {},
   "outputs": [],
   "source": [
    "import pandas as pd\n",
    "import os\n",
    "\n",
    "# Define the directory where your files are stored\n",
    "folder_path = '(3)US CRSP:Compustat Data/data_process/'\n",
    "\n",
    "# Path for the new merged CSV file\n",
    "output_file_path = os.path.join(folder_path, 'merged_pricedelay_US_SP500.csv')\n",
    "\n",
    "# Open the output file in write mode (this will also create the file if it doesn't exist)\n",
    "with open(output_file_path, 'w', newline='') as file_out:\n",
    "    writer = None  # This will be used to write to CSV\n",
    "\n",
    "    # Loop through the file names\n",
    "    for i in range(39):  # Since it's from data_0 to data_38\n",
    "        file_path = os.path.join(folder_path, f'chunk_{i}_annual_delay_measures.csv')\n",
    "        if os.path.exists(file_path):\n",
    "            # Read the CSV file\n",
    "            df = pd.read_csv(file_path)\n",
    "            \n",
    "            # If writer is not set, this is the first file, so include headers\n",
    "            if writer is None:\n",
    "                df.to_csv(file_out, index=False)\n",
    "                writer = True\n",
    "            else:\n",
    "                df.to_csv(file_out, index=False, header=False)\n",
    "        else:\n",
    "            print(f'File not found: {file_path}')"
   ]
  },
  {
   "cell_type": "code",
   "execution_count": 6,
   "metadata": {},
   "outputs": [],
   "source": [
    "# 1st is GVKEY then # 2 is LPERMNO\n",
    "file = '(3)US CRSP:Compustat Data/merged_pricedelay_US_SP500.csv'\n",
    "\n",
    "# the first column is called 'code'. Separate it into two columns where we split 'code' by '_' \n",
    "df = pd.read_csv(file)\n",
    "df[['GVKEY', 'LPERMNO']] = df['code'].str.split('_', expand=True)\n",
    "\n",
    "# save the updated df back to the csv file\n",
    "df.to_csv(file, index=False)"
   ]
  },
  {
   "cell_type": "code",
   "execution_count": null,
   "metadata": {},
   "outputs": [],
   "source": []
  }
 ],
 "metadata": {
  "kernelspec": {
   "display_name": "testvenv",
   "language": "python",
   "name": "python3"
  },
  "language_info": {
   "codemirror_mode": {
    "name": "ipython",
    "version": 3
   },
   "file_extension": ".py",
   "mimetype": "text/x-python",
   "name": "python",
   "nbconvert_exporter": "python",
   "pygments_lexer": "ipython3",
   "version": "3.10.9"
  }
 },
 "nbformat": 4,
 "nbformat_minor": 2
}
